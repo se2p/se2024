{
 "cells": [
  {
   "cell_type": "markdown",
   "id": "c9176d68",
   "metadata": {
    "slideshow": {
     "slide_type": "slide"
    }
   },
   "source": [
    "# Versionskontrolle"
   ]
  },
  {
   "cell_type": "markdown",
   "id": "2e8f7557",
   "metadata": {
    "slideshow": {
     "slide_type": "skip"
    }
   },
   "source": [
    "Dieses Jupyter Notebook enthält die Beispiele zur Vorlesung Versionsverwaltung mit Git. Um dieses Notebook auszuführen benötigt man einen [Bash-Kernel](https://github.com/takluyver/bash_kernel). Alle Kommandos in diesem Notebook simulieren die Ausführung an der Kommandozeile."
   ]
  },
  {
   "cell_type": "markdown",
   "id": "edc18f25",
   "metadata": {
    "slideshow": {
     "slide_type": "slide"
    }
   },
   "source": [
    "## Diff"
   ]
  },
  {
   "cell_type": "markdown",
   "id": "7246885c",
   "metadata": {
    "slideshow": {
     "slide_type": "skip"
    }
   },
   "source": [
    "Bevor wir uns Git zuwenden, müssen wir zunächst die Darstellung von Unterschieden zwischen Dateien betrachten. Man nennt so einen Unterschied einen *Diff*, und erstellt werden diese vom klassischen Werkzeug `diff`."
   ]
  },
  {
   "cell_type": "markdown",
   "id": "78249909",
   "metadata": {
    "slideshow": {
     "slide_type": "skip"
    }
   },
   "source": [
    "Gegeben seien zwei Beispieldateien (deren Inhalt wir uns mit `cat` ansehen können):"
   ]
  },
  {
   "cell_type": "code",
   "execution_count": null,
   "id": "85b51339",
   "metadata": {
    "slideshow": {
     "slide_type": "fragment"
    }
   },
   "outputs": [],
   "source": [
    "cat data/git/Example1.java"
   ]
  },
  {
   "cell_type": "code",
   "execution_count": null,
   "id": "67923745",
   "metadata": {
    "slideshow": {
     "slide_type": "fragment"
    }
   },
   "outputs": [],
   "source": [
    "cat data/git/Example2.java"
   ]
  },
  {
   "cell_type": "markdown",
   "id": "9cdbd30d",
   "metadata": {
    "slideshow": {
     "slide_type": "skip"
    }
   },
   "source": [
    "Der Unterschied zwischen den beiden Dateien kann mit `diff <datei1> <datei2>` angezeigt werden."
   ]
  },
  {
   "cell_type": "code",
   "execution_count": null,
   "id": "c6d22dbd",
   "metadata": {
    "slideshow": {
     "slide_type": "slide"
    }
   },
   "outputs": [],
   "source": [
    "diff data/git/Example1.java data/git/Example2.java"
   ]
  },
  {
   "cell_type": "markdown",
   "id": "0f83a5df",
   "metadata": {
    "slideshow": {
     "slide_type": "skip"
    }
   },
   "source": [
    "Angezeigt werden nur jene Zeilen, bei denen sich die beiden Dateien unterscheiden. Zeilen mit dem Prefix `<` enstammen der ersten Datei, und jene mit dem Prefix `>` sind die entsprechenden Zeilen in der zweiten Datei."
   ]
  },
  {
   "cell_type": "markdown",
   "id": "fc070f81",
   "metadata": {
    "slideshow": {
     "slide_type": "skip"
    }
   },
   "source": [
    "Sehen wir uns ein Beispiel an, bei dem neue Zeilen im Vergleich zur ersten Datei hinzugefügt wurden:"
   ]
  },
  {
   "cell_type": "code",
   "execution_count": null,
   "id": "94e27f16",
   "metadata": {
    "slideshow": {
     "slide_type": "slide"
    }
   },
   "outputs": [],
   "source": [
    "cat data/git/Example3.java"
   ]
  },
  {
   "cell_type": "code",
   "execution_count": null,
   "id": "bb9dc249",
   "metadata": {
    "slideshow": {
     "slide_type": "fragment"
    }
   },
   "outputs": [],
   "source": [
    "diff data/git/Example1.java data/git/Example3.java"
   ]
  },
  {
   "cell_type": "markdown",
   "id": "9605c74e",
   "metadata": {
    "slideshow": {
     "slide_type": "skip"
    }
   },
   "source": [
    "Nun noch ein Beispiel bei dem Zeilen entfernt wurden."
   ]
  },
  {
   "cell_type": "code",
   "execution_count": null,
   "id": "3bf6cca1",
   "metadata": {
    "slideshow": {
     "slide_type": "slide"
    }
   },
   "outputs": [],
   "source": [
    "cat data/git/Example4.java"
   ]
  },
  {
   "cell_type": "code",
   "execution_count": null,
   "id": "e0cdf775",
   "metadata": {
    "slideshow": {
     "slide_type": "fragment"
    }
   },
   "outputs": [],
   "source": [
    "diff data/git/Example1.java data/git/Example4.java"
   ]
  },
  {
   "cell_type": "markdown",
   "id": "543c6a03",
   "metadata": {
    "slideshow": {
     "slide_type": "slide"
    }
   },
   "source": [
    "### Context"
   ]
  },
  {
   "cell_type": "markdown",
   "id": "474d6dab",
   "metadata": {
    "slideshow": {
     "slide_type": "skip"
    }
   },
   "source": [
    "Um einen Diff besser zu verstehen, kann man sich den Kontext, also die Zeilen rund um die Änderung, mitanzeigen lassen."
   ]
  },
  {
   "cell_type": "code",
   "execution_count": null,
   "id": "d5f0baa1",
   "metadata": {
    "slideshow": {
     "slide_type": "fragment"
    }
   },
   "outputs": [],
   "source": [
    "diff -c data/git/Example1.java data/git/Example2.java"
   ]
  },
  {
   "cell_type": "code",
   "execution_count": null,
   "id": "586e0bd7",
   "metadata": {
    "slideshow": {
     "slide_type": "slide"
    }
   },
   "outputs": [],
   "source": [
    "diff -c data/git/Example1.java data/git/Example3.java"
   ]
  },
  {
   "cell_type": "code",
   "execution_count": null,
   "id": "8547f803",
   "metadata": {
    "slideshow": {
     "slide_type": "fragment"
    }
   },
   "outputs": [],
   "source": [
    "diff -c data/git/Example1.java data/git/Example4.java"
   ]
  },
  {
   "cell_type": "markdown",
   "id": "4c56e9d6",
   "metadata": {
    "slideshow": {
     "slide_type": "slide"
    }
   },
   "source": [
    "### Unified diff format"
   ]
  },
  {
   "cell_type": "markdown",
   "id": "2887102e",
   "metadata": {
    "slideshow": {
     "slide_type": "skip"
    }
   },
   "source": [
    "Als Austauschformat wird das _Unified_-Diff-Format verwendet"
   ]
  },
  {
   "cell_type": "code",
   "execution_count": null,
   "id": "5f7cae06",
   "metadata": {
    "slideshow": {
     "slide_type": "fragment"
    }
   },
   "outputs": [],
   "source": [
    "diff -u data/git/Example1.java data/git/Example2.java"
   ]
  },
  {
   "cell_type": "markdown",
   "id": "16c4e573",
   "metadata": {
    "slideshow": {
     "slide_type": "skip"
    }
   },
   "source": [
    "Zeilen mit Präfix `+` wurden hinzugefügt, mit Präfix `-` entfernt."
   ]
  },
  {
   "cell_type": "code",
   "execution_count": null,
   "id": "f324dfe8",
   "metadata": {
    "slideshow": {
     "slide_type": "slide"
    }
   },
   "outputs": [],
   "source": [
    "diff -u data/git/Example1.java data/git/Example3.java"
   ]
  },
  {
   "cell_type": "code",
   "execution_count": null,
   "id": "9405c419",
   "metadata": {
    "slideshow": {
     "slide_type": "fragment"
    }
   },
   "outputs": [],
   "source": [
    "diff -u data/git/Example1.java data/git/Example4.java"
   ]
  },
  {
   "cell_type": "markdown",
   "id": "19d3a186",
   "metadata": {
    "slideshow": {
     "slide_type": "slide"
    }
   },
   "source": [
    "## Patch"
   ]
  },
  {
   "cell_type": "markdown",
   "id": "c7161d89",
   "metadata": {
    "slideshow": {
     "slide_type": "skip"
    }
   },
   "source": [
    "Das Unified Diff Format erlaubt es, bestehende Dateien anzupassen. Der Unterschied wird dazu in einem *Patch* gespeichert."
   ]
  },
  {
   "cell_type": "code",
   "execution_count": null,
   "id": "888c3d9b",
   "metadata": {
    "slideshow": {
     "slide_type": "fragment"
    }
   },
   "outputs": [],
   "source": [
    "diff -u data/git/Example1.java data/git/Example2.java > patch.txt"
   ]
  },
  {
   "cell_type": "code",
   "execution_count": null,
   "id": "ad379c5d",
   "metadata": {
    "slideshow": {
     "slide_type": "fragment"
    }
   },
   "outputs": [],
   "source": [
    "cat patch.txt"
   ]
  },
  {
   "cell_type": "code",
   "execution_count": null,
   "id": "b3e14c5d",
   "metadata": {
    "slideshow": {
     "slide_type": "slide"
    }
   },
   "outputs": [],
   "source": [
    "cp data/git/Example1.java Example.java"
   ]
  },
  {
   "cell_type": "code",
   "execution_count": null,
   "id": "073c5ddb",
   "metadata": {
    "slideshow": {
     "slide_type": "fragment"
    }
   },
   "outputs": [],
   "source": [
    "cat Example.java"
   ]
  },
  {
   "cell_type": "markdown",
   "id": "3a02182e",
   "metadata": {
    "slideshow": {
     "slide_type": "skip"
    }
   },
   "source": [
    "Um die Datei `Example.java` nun basierend auf unserem Patch zu verändern, benötigen wir das Kommando `patch`."
   ]
  },
  {
   "cell_type": "code",
   "execution_count": null,
   "id": "844dedc0",
   "metadata": {
    "slideshow": {
     "slide_type": "fragment"
    }
   },
   "outputs": [],
   "source": [
    "patch -p0 Example.java < patch.txt"
   ]
  },
  {
   "cell_type": "code",
   "execution_count": null,
   "id": "fc13dbf3",
   "metadata": {
    "slideshow": {
     "slide_type": "fragment"
    }
   },
   "outputs": [],
   "source": [
    "cat Example.java"
   ]
  },
  {
   "cell_type": "code",
   "execution_count": null,
   "id": "2858cf33",
   "metadata": {
    "slideshow": {
     "slide_type": "skip"
    }
   },
   "outputs": [],
   "source": [
    "# Nur um das Jupyter Notebook aufzuräumen...\n",
    "rm patch.txt\n",
    "rm Example.java"
   ]
  },
  {
   "cell_type": "markdown",
   "id": "19712715",
   "metadata": {
    "slideshow": {
     "slide_type": "slide"
    }
   },
   "source": [
    "## Git"
   ]
  },
  {
   "cell_type": "markdown",
   "id": "d7aa2c91",
   "metadata": {
    "slideshow": {
     "slide_type": "skip"
    }
   },
   "source": [
    "Wir verwenden zur Versionsverwaltung das Programm `git`. Git ist in alle modernen IDEs direkt integriert, wir verwenden hier jedoch die Kommandozeilen-Version."
   ]
  },
  {
   "cell_type": "markdown",
   "id": "fd01edb2",
   "metadata": {
    "slideshow": {
     "slide_type": "skip"
    }
   },
   "source": [
    "Zunächst legen wir uns nur ein temporäres Verzeichnis an, damit das Jupyter Notebook nicht zugemüllt wird..."
   ]
  },
  {
   "cell_type": "code",
   "execution_count": null,
   "id": "265a6ce7",
   "metadata": {
    "slideshow": {
     "slide_type": "skip"
    }
   },
   "outputs": [],
   "source": [
    "rm -rf tmp\n",
    "mkdir -p tmp\n",
    "cd tmp"
   ]
  },
  {
   "cell_type": "markdown",
   "id": "8f29e988",
   "metadata": {
    "slideshow": {
     "slide_type": "skip"
    }
   },
   "source": [
    "Wir nehmen an Entwickler 1 hat einen Workspace im Verzeichnis `dev1."
   ]
  },
  {
   "cell_type": "code",
   "execution_count": null,
   "id": "16bf931e",
   "metadata": {
    "slideshow": {
     "slide_type": "fragment"
    }
   },
   "outputs": [],
   "source": [
    "mkdir -p dev1\n",
    "cd dev1"
   ]
  },
  {
   "cell_type": "markdown",
   "id": "c18196c0",
   "metadata": {
    "slideshow": {
     "slide_type": "skip"
    }
   },
   "source": [
    "Wir legen hier nun ein neues Git Repository an."
   ]
  },
  {
   "cell_type": "code",
   "execution_count": null,
   "id": "1351c7eb",
   "metadata": {
    "slideshow": {
     "slide_type": "fragment"
    }
   },
   "outputs": [],
   "source": [
    "git init"
   ]
  },
  {
   "cell_type": "markdown",
   "id": "7fa1c869",
   "metadata": {
    "slideshow": {
     "slide_type": "skip"
    }
   },
   "source": [
    "Um Veränderungen im Workspace zu simulieren, fügen wir eine Datei `hello.txt` hinzu."
   ]
  },
  {
   "cell_type": "code",
   "execution_count": null,
   "id": "79b49264",
   "metadata": {
    "slideshow": {
     "slide_type": "fragment"
    }
   },
   "outputs": [],
   "source": [
    "echo \"Hallo SE 2024\" > hello.txt"
   ]
  },
  {
   "cell_type": "code",
   "execution_count": null,
   "id": "03a08bec",
   "metadata": {
    "slideshow": {
     "slide_type": "fragment"
    }
   },
   "outputs": [],
   "source": [
    "ls"
   ]
  },
  {
   "cell_type": "markdown",
   "id": "4a2d0bc5",
   "metadata": {
    "slideshow": {
     "slide_type": "skip"
    }
   },
   "source": [
    "Um diese neue Datei in die Versionsverwaltung aufzunehmen, dient das `add` Kommando in Git."
   ]
  },
  {
   "cell_type": "code",
   "execution_count": null,
   "id": "0953c900",
   "metadata": {
    "slideshow": {
     "slide_type": "fragment"
    }
   },
   "outputs": [],
   "source": [
    "git add hello.txt"
   ]
  },
  {
   "cell_type": "markdown",
   "id": "688fdbf5",
   "metadata": {
    "slideshow": {
     "slide_type": "skip"
    }
   },
   "source": [
    "Damit befindet sich die Datei auf der \"Stage\". Um sie ins Repository einzuchecken, dient das `commit` Kommando."
   ]
  },
  {
   "cell_type": "code",
   "execution_count": null,
   "id": "da0a0f2e",
   "metadata": {
    "slideshow": {
     "slide_type": "fragment"
    }
   },
   "outputs": [],
   "source": [
    "git commit -m \"Add hello\""
   ]
  },
  {
   "cell_type": "markdown",
   "id": "3879f125",
   "metadata": {
    "slideshow": {
     "slide_type": "skip"
    }
   },
   "source": [
    "Git-Output wird mit einem \"Pager\" angezeigt, der per Default auf einen Tastendruck wartet. Nachdem das im Jupyter Notebook nicht geht, müssen wir den an dieser Stelle umkonfigurieren. Das ist normalerweise nicht notwendig."
   ]
  },
  {
   "cell_type": "code",
   "execution_count": null,
   "id": "2422146e",
   "metadata": {
    "slideshow": {
     "slide_type": "slide"
    }
   },
   "outputs": [],
   "source": [
    "# Only required for presenting in the Jupyter notebook\n",
    "export GIT_PAGER=cat"
   ]
  },
  {
   "cell_type": "markdown",
   "id": "51485353",
   "metadata": {
    "slideshow": {
     "slide_type": "skip"
    }
   },
   "source": [
    "Die Historie unserers Repositories können wir mit `log` ansehen."
   ]
  },
  {
   "cell_type": "code",
   "execution_count": null,
   "id": "f04cd6df",
   "metadata": {
    "slideshow": {
     "slide_type": "fragment"
    }
   },
   "outputs": [],
   "source": [
    "git log"
   ]
  },
  {
   "cell_type": "markdown",
   "id": "cab4b313",
   "metadata": {
    "slideshow": {
     "slide_type": "skip"
    }
   },
   "source": [
    "Nun verändern wir die Datei nochmal (und simulieren damit, dass Entwickler 1 arbeitet)."
   ]
  },
  {
   "cell_type": "code",
   "execution_count": null,
   "id": "0ae65c2c",
   "metadata": {
    "slideshow": {
     "slide_type": "fragment"
    }
   },
   "outputs": [],
   "source": [
    "echo \"Hello again\" >> hello.txt"
   ]
  },
  {
   "cell_type": "markdown",
   "id": "a31ee3f3",
   "metadata": {
    "slideshow": {
     "slide_type": "skip"
    }
   },
   "source": [
    "Den Status unseres Workspaces können wir mit `status` einsehen."
   ]
  },
  {
   "cell_type": "code",
   "execution_count": null,
   "id": "d78d8580",
   "metadata": {
    "slideshow": {
     "slide_type": "fragment"
    }
   },
   "outputs": [],
   "source": [
    "git status"
   ]
  },
  {
   "cell_type": "markdown",
   "id": "f476da52",
   "metadata": {
    "slideshow": {
     "slide_type": "skip"
    }
   },
   "source": [
    "Wenn wir wissen wollen, was verändert wurde, können wir uns einen Diff anzeigen lassen."
   ]
  },
  {
   "cell_type": "code",
   "execution_count": null,
   "id": "0708d8f9",
   "metadata": {
    "slideshow": {
     "slide_type": "slide"
    }
   },
   "outputs": [],
   "source": [
    "git diff"
   ]
  },
  {
   "cell_type": "markdown",
   "id": "505d25b4",
   "metadata": {
    "slideshow": {
     "slide_type": "skip"
    }
   },
   "source": [
    "Das Committen der neuen Änderungen funktioniert wieder ähnlich."
   ]
  },
  {
   "cell_type": "code",
   "execution_count": null,
   "id": "d16dfa54",
   "metadata": {
    "slideshow": {
     "slide_type": "fragment"
    }
   },
   "outputs": [],
   "source": [
    "git add hello.txt"
   ]
  },
  {
   "cell_type": "code",
   "execution_count": null,
   "id": "77a36f28",
   "metadata": {
    "slideshow": {
     "slide_type": "fragment"
    }
   },
   "outputs": [],
   "source": [
    "git commit -m \"Updated hello\""
   ]
  },
  {
   "cell_type": "markdown",
   "id": "dc132bef",
   "metadata": {
    "slideshow": {
     "slide_type": "skip"
    }
   },
   "source": [
    "Die Historie zeigt uns nun zwei Änderungen."
   ]
  },
  {
   "cell_type": "code",
   "execution_count": null,
   "id": "2f0e0d74",
   "metadata": {
    "slideshow": {
     "slide_type": "slide"
    }
   },
   "outputs": [],
   "source": [
    "git log"
   ]
  },
  {
   "cell_type": "markdown",
   "id": "eefc49a5",
   "metadata": {
    "slideshow": {
     "slide_type": "skip"
    }
   },
   "source": [
    "Wenn wir wissen wollen, wer zuletzt die Datei `hello.txt` geändert hat, dann finden wir das mit `blame` heraus."
   ]
  },
  {
   "cell_type": "code",
   "execution_count": null,
   "id": "f5ba0e2a",
   "metadata": {
    "slideshow": {
     "slide_type": "fragment"
    }
   },
   "outputs": [],
   "source": [
    "git blame hello.txt"
   ]
  },
  {
   "cell_type": "markdown",
   "id": "c66fe52f",
   "metadata": {
    "slideshow": {
     "slide_type": "slide"
    }
   },
   "source": [
    "### Nicht-committete Änderungen rückgängig machen"
   ]
  },
  {
   "cell_type": "markdown",
   "id": "dda4a7d6",
   "metadata": {
    "slideshow": {
     "slide_type": "skip"
    }
   },
   "source": [
    "Angenommen wir nehmen wieder eine lokale Änderung vor."
   ]
  },
  {
   "cell_type": "code",
   "execution_count": null,
   "id": "a10bd088",
   "metadata": {
    "slideshow": {
     "slide_type": "fragment"
    }
   },
   "outputs": [],
   "source": [
    "echo \"Hello yet again\" >> hello.txt"
   ]
  },
  {
   "cell_type": "code",
   "execution_count": null,
   "id": "cc2bd893",
   "metadata": {
    "slideshow": {
     "slide_type": "fragment"
    }
   },
   "outputs": [],
   "source": [
    "git status"
   ]
  },
  {
   "cell_type": "markdown",
   "id": "5c0f3cd2",
   "metadata": {
    "slideshow": {
     "slide_type": "skip"
    }
   },
   "source": [
    "Wenn wir lokale Änderungen, die noch nicht \"staged\" oder \"committed\" sind, rückgängig machen wollen, dann können wir dazu einfach die Version in `HEAD` auschecken."
   ]
  },
  {
   "cell_type": "code",
   "execution_count": null,
   "id": "61ffd43b",
   "metadata": {
    "slideshow": {
     "slide_type": "fragment"
    }
   },
   "outputs": [],
   "source": [
    "git checkout hello.txt"
   ]
  },
  {
   "cell_type": "code",
   "execution_count": null,
   "id": "0f09cdfa",
   "metadata": {
    "slideshow": {
     "slide_type": "fragment"
    }
   },
   "outputs": [],
   "source": [
    "git status"
   ]
  },
  {
   "cell_type": "code",
   "execution_count": null,
   "id": "cafbafb6",
   "metadata": {
    "slideshow": {
     "slide_type": "fragment"
    }
   },
   "outputs": [],
   "source": [
    "cat hello.txt"
   ]
  },
  {
   "cell_type": "markdown",
   "id": "b2b53f6f",
   "metadata": {
    "slideshow": {
     "slide_type": "slide"
    }
   },
   "source": [
    "### Unstaging"
   ]
  },
  {
   "cell_type": "markdown",
   "id": "f9ace8cb",
   "metadata": {
    "slideshow": {
     "slide_type": "skip"
    }
   },
   "source": [
    "Nehmen wir noch eine Änderung vor:"
   ]
  },
  {
   "cell_type": "code",
   "execution_count": null,
   "id": "6a73c475",
   "metadata": {
    "slideshow": {
     "slide_type": "fragment"
    }
   },
   "outputs": [],
   "source": [
    "echo \"Hello yet again\" >> hello.txt\n",
    "git add hello.txt"
   ]
  },
  {
   "cell_type": "code",
   "execution_count": null,
   "id": "c3034559",
   "metadata": {
    "slideshow": {
     "slide_type": "fragment"
    }
   },
   "outputs": [],
   "source": [
    "git status"
   ]
  },
  {
   "cell_type": "markdown",
   "id": "ade8ab7e",
   "metadata": {
    "slideshow": {
     "slide_type": "skip"
    }
   },
   "source": [
    "Diese Änderung ist nun schon \"staged\". Wenn wir diese Änderung rückgängig machen wollen, reicht ein \"checkout\" nicht aus:"
   ]
  },
  {
   "cell_type": "code",
   "execution_count": null,
   "id": "dcd891ac",
   "metadata": {
    "slideshow": {
     "slide_type": "fragment"
    }
   },
   "outputs": [],
   "source": [
    "git checkout hello.txt"
   ]
  },
  {
   "cell_type": "code",
   "execution_count": null,
   "id": "3589fe36",
   "metadata": {
    "slideshow": {
     "slide_type": "fragment"
    }
   },
   "outputs": [],
   "source": [
    "git status"
   ]
  },
  {
   "cell_type": "markdown",
   "id": "aa5d27ef",
   "metadata": {
    "slideshow": {
     "slide_type": "skip"
    }
   },
   "source": [
    "Zuvor müssen wir die Datei \"unstagen\":"
   ]
  },
  {
   "cell_type": "code",
   "execution_count": null,
   "id": "90cb18ba",
   "metadata": {
    "slideshow": {
     "slide_type": "subslide"
    }
   },
   "outputs": [],
   "source": [
    "git reset hello.txt"
   ]
  },
  {
   "cell_type": "code",
   "execution_count": null,
   "id": "ebec0b3b",
   "metadata": {
    "slideshow": {
     "slide_type": "fragment"
    }
   },
   "outputs": [],
   "source": [
    "git status"
   ]
  },
  {
   "cell_type": "markdown",
   "id": "618e6b19",
   "metadata": {
    "slideshow": {
     "slide_type": "skip"
    }
   },
   "source": [
    "Aber committen wir die Änderung zunächst doch noch."
   ]
  },
  {
   "cell_type": "code",
   "execution_count": null,
   "id": "2e7b5fa9",
   "metadata": {
    "slideshow": {
     "slide_type": "fragment"
    }
   },
   "outputs": [],
   "source": [
    "git add hello.txt\n",
    "git commit -m \"Hello the third\""
   ]
  },
  {
   "cell_type": "markdown",
   "id": "92f9e848",
   "metadata": {
    "slideshow": {
     "slide_type": "slide"
    }
   },
   "source": [
    "### Reverting"
   ]
  },
  {
   "cell_type": "markdown",
   "id": "c7a2d336",
   "metadata": {
    "slideshow": {
     "slide_type": "skip"
    }
   },
   "source": [
    "Wir können eine beliebige Version der Datei `hello.txt` auschecken. Die folgenden Commits existieren:"
   ]
  },
  {
   "cell_type": "code",
   "execution_count": null,
   "id": "7787eb32",
   "metadata": {
    "slideshow": {
     "slide_type": "fragment"
    }
   },
   "outputs": [],
   "source": [
    "git log"
   ]
  },
  {
   "cell_type": "markdown",
   "id": "3a165fee",
   "metadata": {
    "slideshow": {
     "slide_type": "skip"
    }
   },
   "source": [
    "Da sich Commit-Hashes bei jeder Ausführung ändern, holen wir uns den Commithash des ersten Commits (das ist normal nicht so notwendig, das passiert hier nur um mit dem Jupyter Notebook zu arbeiten)."
   ]
  },
  {
   "cell_type": "code",
   "execution_count": null,
   "id": "2415918a",
   "metadata": {
    "slideshow": {
     "slide_type": "slide"
    }
   },
   "outputs": [],
   "source": [
    "# Normally you'd know the commit hash, we need to figure out this way for the Jupyter notebook\n",
    "COMMIT=$(git log --reverse --oneline | head -n 1 | cut -d ' ' -f1)"
   ]
  },
  {
   "cell_type": "markdown",
   "id": "9cbc5267",
   "metadata": {
    "slideshow": {
     "slide_type": "skip"
    }
   },
   "source": [
    "Wir können uns nun gezielt die Version von `hello.txt` mit diesem Commithash auschecken."
   ]
  },
  {
   "cell_type": "code",
   "execution_count": null,
   "id": "d52728ce",
   "metadata": {
    "slideshow": {
     "slide_type": "fragment"
    }
   },
   "outputs": [],
   "source": [
    "git checkout $COMMIT -- hello.txt"
   ]
  },
  {
   "cell_type": "code",
   "execution_count": null,
   "id": "b1e0144e",
   "metadata": {
    "slideshow": {
     "slide_type": "fragment"
    }
   },
   "outputs": [],
   "source": [
    "git status"
   ]
  },
  {
   "cell_type": "code",
   "execution_count": null,
   "id": "bbbcba8d",
   "metadata": {
    "slideshow": {
     "slide_type": "fragment"
    }
   },
   "outputs": [],
   "source": [
    "cat hello.txt"
   ]
  },
  {
   "cell_type": "markdown",
   "id": "3bb61531",
   "metadata": {
    "slideshow": {
     "slide_type": "skip"
    }
   },
   "source": [
    "Die Datei zählt nun als geändert, wenn wir diese Änderung behalten wollen (und damit die letzten beiden Commits rückgängig machen), dann müssen wir sie commiten."
   ]
  },
  {
   "cell_type": "code",
   "execution_count": null,
   "id": "c587674d",
   "metadata": {
    "slideshow": {
     "slide_type": "fragment"
    }
   },
   "outputs": [],
   "source": [
    "git add hello.txt\n",
    "git commit -m \"Reverted to original version\""
   ]
  },
  {
   "cell_type": "code",
   "execution_count": null,
   "id": "970d942e",
   "metadata": {
    "slideshow": {
     "slide_type": "slide"
    }
   },
   "outputs": [],
   "source": [
    "git log hello.txt"
   ]
  },
  {
   "cell_type": "markdown",
   "id": "411e94b6",
   "metadata": {
    "slideshow": {
     "slide_type": "slide"
    }
   },
   "source": [
    "### Detached Head"
   ]
  },
  {
   "cell_type": "markdown",
   "id": "dea5ae70",
   "metadata": {
    "slideshow": {
     "slide_type": "skip"
    }
   },
   "source": [
    "Vorsichtig muss man sein, wenn man nicht nur eine Datei in einer alten Version auscheckt, sondern den ganzen Workspace in den Zustand versetzt."
   ]
  },
  {
   "cell_type": "code",
   "execution_count": null,
   "id": "39c6daa3",
   "metadata": {
    "slideshow": {
     "slide_type": "fragment"
    }
   },
   "outputs": [],
   "source": [
    "git checkout $COMMIT"
   ]
  },
  {
   "cell_type": "markdown",
   "id": "c52a2bc5",
   "metadata": {
    "slideshow": {
     "slide_type": "skip"
    }
   },
   "source": [
    "Wenn wir uns die Historie ansehen, sind die letzten beiden Commits nun verschwunden:"
   ]
  },
  {
   "cell_type": "code",
   "execution_count": null,
   "id": "95022a78",
   "metadata": {
    "slideshow": {
     "slide_type": "fragment"
    }
   },
   "outputs": [],
   "source": [
    "git log --oneline"
   ]
  },
  {
   "cell_type": "markdown",
   "id": "4e9bea6b",
   "metadata": {
    "slideshow": {
     "slide_type": "skip"
    }
   },
   "source": [
    "Noch ist nichts verloren, wir können einfach wieder die \"main\" Version auschecken."
   ]
  },
  {
   "cell_type": "code",
   "execution_count": null,
   "id": "dff3a407",
   "metadata": {
    "slideshow": {
     "slide_type": "slide"
    }
   },
   "outputs": [],
   "source": [
    "git checkout main"
   ]
  },
  {
   "cell_type": "code",
   "execution_count": null,
   "id": "079a2132",
   "metadata": {
    "slideshow": {
     "slide_type": "fragment"
    }
   },
   "outputs": [],
   "source": [
    "git log --oneline"
   ]
  },
  {
   "cell_type": "markdown",
   "id": "5bedc4a1",
   "metadata": {
    "slideshow": {
     "slide_type": "skip"
    }
   },
   "source": [
    "`main` ist ein Branch. Um zu sehen, wie wir dieses Problem umgehen können, schauen wir uns zunächst an wie man mit Branches arbeitet."
   ]
  },
  {
   "cell_type": "markdown",
   "id": "2a30dcf6",
   "metadata": {
    "slideshow": {
     "slide_type": "slide"
    }
   },
   "source": [
    "## Branches"
   ]
  },
  {
   "cell_type": "markdown",
   "id": "36dfe0ad",
   "metadata": {
    "slideshow": {
     "slide_type": "skip"
    }
   },
   "source": [
    "Zwischen Branches wechselt man mit dem Kommando `checkout`; einen neuen Branch erstellt man mit `checkout -b`."
   ]
  },
  {
   "cell_type": "code",
   "execution_count": null,
   "id": "86799c10",
   "metadata": {
    "slideshow": {
     "slide_type": "fragment"
    }
   },
   "outputs": [],
   "source": [
    "git checkout -b se2"
   ]
  },
  {
   "cell_type": "markdown",
   "id": "0f65d087",
   "metadata": {
    "slideshow": {
     "slide_type": "skip"
    }
   },
   "source": [
    "Nun können wir in unserem `se2` Branch arbeiten."
   ]
  },
  {
   "cell_type": "code",
   "execution_count": null,
   "id": "8245ff55",
   "metadata": {
    "slideshow": {
     "slide_type": "fragment"
    }
   },
   "outputs": [],
   "source": [
    "echo \"Hello in the se2 branch\" >> hello.txt"
   ]
  },
  {
   "cell_type": "code",
   "execution_count": null,
   "id": "9e25e9e8",
   "metadata": {
    "slideshow": {
     "slide_type": "fragment"
    }
   },
   "outputs": [],
   "source": [
    "git add hello.txt"
   ]
  },
  {
   "cell_type": "code",
   "execution_count": null,
   "id": "c5f5d13b",
   "metadata": {
    "slideshow": {
     "slide_type": "fragment"
    }
   },
   "outputs": [],
   "source": [
    "git commit -m \"Add branch hello\""
   ]
  },
  {
   "cell_type": "code",
   "execution_count": null,
   "id": "1843a4eb",
   "metadata": {
    "slideshow": {
     "slide_type": "fragment"
    }
   },
   "outputs": [],
   "source": [
    "git log --oneline"
   ]
  },
  {
   "cell_type": "markdown",
   "id": "389020bf",
   "metadata": {
    "slideshow": {
     "slide_type": "skip"
    }
   },
   "source": [
    "Wenn wir zurück in den `main` Branch wechseln, dann ist die letzte Änderung hier nicht vorhanden."
   ]
  },
  {
   "cell_type": "code",
   "execution_count": null,
   "id": "0b97bc72",
   "metadata": {
    "slideshow": {
     "slide_type": "slide"
    }
   },
   "outputs": [],
   "source": [
    "git checkout main"
   ]
  },
  {
   "cell_type": "code",
   "execution_count": null,
   "id": "f83694f4",
   "metadata": {
    "slideshow": {
     "slide_type": "fragment"
    }
   },
   "outputs": [],
   "source": [
    "cat hello.txt"
   ]
  },
  {
   "cell_type": "code",
   "execution_count": null,
   "id": "760e0d2a",
   "metadata": {
    "slideshow": {
     "slide_type": "fragment"
    }
   },
   "outputs": [],
   "source": [
    "git log --oneline"
   ]
  },
  {
   "cell_type": "markdown",
   "id": "37777235",
   "metadata": {
    "slideshow": {
     "slide_type": "skip"
    }
   },
   "source": [
    "Um Branches zusammenzuführen, dient das Kommando \"merge\". Mergen wir also `se2` nach `main`:"
   ]
  },
  {
   "cell_type": "code",
   "execution_count": null,
   "id": "0cd25d48",
   "metadata": {
    "slideshow": {
     "slide_type": "fragment"
    }
   },
   "outputs": [],
   "source": [
    "git merge se2"
   ]
  },
  {
   "cell_type": "markdown",
   "id": "baa422bc",
   "metadata": {
    "slideshow": {
     "slide_type": "skip"
    }
   },
   "source": [
    "Nun sind die Änderungen wieder zusammengeführt."
   ]
  },
  {
   "cell_type": "code",
   "execution_count": null,
   "id": "9f28901c",
   "metadata": {
    "slideshow": {
     "slide_type": "fragment"
    }
   },
   "outputs": [],
   "source": [
    "cat hello.txt"
   ]
  },
  {
   "cell_type": "markdown",
   "id": "d4838367",
   "metadata": {
    "slideshow": {
     "slide_type": "skip"
    }
   },
   "source": [
    "Änderungen in main sind in `se2` nicht sichtbar:"
   ]
  },
  {
   "cell_type": "code",
   "execution_count": null,
   "id": "8dc49d96",
   "metadata": {
    "slideshow": {
     "slide_type": "slide"
    }
   },
   "outputs": [],
   "source": [
    "echo \"Hello added in main\" >> hello.txt\n",
    "git add hello.txt\n",
    "git commit -m \"Added hello main\""
   ]
  },
  {
   "cell_type": "code",
   "execution_count": null,
   "id": "82b8c029",
   "metadata": {
    "slideshow": {
     "slide_type": "fragment"
    }
   },
   "outputs": [],
   "source": [
    "git checkout se2"
   ]
  },
  {
   "cell_type": "code",
   "execution_count": null,
   "id": "22094f0b",
   "metadata": {
    "slideshow": {
     "slide_type": "fragment"
    }
   },
   "outputs": [],
   "source": [
    "cat hello.txt"
   ]
  },
  {
   "cell_type": "markdown",
   "id": "ead93fd6",
   "metadata": {
    "slideshow": {
     "slide_type": "skip"
    }
   },
   "source": [
    "Wir führen nun auch in `se2` eine Änderung durch und committen."
   ]
  },
  {
   "cell_type": "code",
   "execution_count": null,
   "id": "571ef0d8",
   "metadata": {
    "slideshow": {
     "slide_type": "fragment"
    }
   },
   "outputs": [],
   "source": [
    "echo \"Hello added again in se2\" >> hello.txt\n",
    "git add hello.txt\n",
    "git commit -m \"Added hello to se2 again\""
   ]
  },
  {
   "cell_type": "markdown",
   "id": "a1ad0b3c",
   "metadata": {
    "slideshow": {
     "slide_type": "skip"
    }
   },
   "source": [
    "Diese Änderung ist natürlich in `main` nicht sichtbar."
   ]
  },
  {
   "cell_type": "code",
   "execution_count": null,
   "id": "a44db175",
   "metadata": {
    "slideshow": {
     "slide_type": "slide"
    }
   },
   "outputs": [],
   "source": [
    "git checkout main"
   ]
  },
  {
   "cell_type": "code",
   "execution_count": null,
   "id": "9bb2c4fd",
   "metadata": {
    "slideshow": {
     "slide_type": "fragment"
    }
   },
   "outputs": [],
   "source": [
    "cat hello.txt"
   ]
  },
  {
   "cell_type": "markdown",
   "id": "6fa3637d",
   "metadata": {
    "slideshow": {
     "slide_type": "skip"
    }
   },
   "source": [
    "Wenn wir nun allerdings einen Merge probieren, gibt es ein Problem: Die Datei `hello.txt` wurde in beiden Branches editiert."
   ]
  },
  {
   "cell_type": "code",
   "execution_count": null,
   "id": "5b6dfcca",
   "metadata": {
    "slideshow": {
     "slide_type": "fragment"
    }
   },
   "outputs": [],
   "source": [
    "git merge se2"
   ]
  },
  {
   "cell_type": "markdown",
   "id": "a2b586a7",
   "metadata": {
    "slideshow": {
     "slide_type": "skip"
    }
   },
   "source": [
    "Der Merge-Conflict wird in der Datei angezeigt."
   ]
  },
  {
   "cell_type": "code",
   "execution_count": null,
   "id": "11b61e11",
   "metadata": {
    "slideshow": {
     "slide_type": "fragment"
    }
   },
   "outputs": [],
   "source": [
    "cat hello.txt"
   ]
  },
  {
   "cell_type": "code",
   "execution_count": null,
   "id": "aac4f752",
   "metadata": {
    "slideshow": {
     "slide_type": "slide"
    }
   },
   "outputs": [],
   "source": [
    "git status"
   ]
  },
  {
   "cell_type": "markdown",
   "id": "c35ecb9d",
   "metadata": {
    "slideshow": {
     "slide_type": "skip"
    }
   },
   "source": [
    "Hier hat der automatische Merge nicht geklappt. Wir müssen also per Hand in unserem Editor das Problem lösen."
   ]
  },
  {
   "cell_type": "code",
   "execution_count": null,
   "id": "396b3dad",
   "metadata": {
    "slideshow": {
     "slide_type": "fragment"
    }
   },
   "outputs": [],
   "source": [
    "cat > hello.txt << EOM\n",
    "Hallo SE 2022\n",
    "Hello in the se2 branch\n",
    "Hello added in main\n",
    "Hello added again in se2\n",
    "EOM"
   ]
  },
  {
   "cell_type": "code",
   "execution_count": null,
   "id": "4fd4017a",
   "metadata": {
    "slideshow": {
     "slide_type": "fragment"
    }
   },
   "outputs": [],
   "source": [
    "cat hello.txt"
   ]
  },
  {
   "cell_type": "markdown",
   "id": "7b212a66",
   "metadata": {
    "slideshow": {
     "slide_type": "skip"
    }
   },
   "source": [
    "Wir befinden uns noch im Merge, und müssen diesen abschliessen indem wir die Datei, in der wir den Merge-Conflict behoben haben, stagen und dann committen."
   ]
  },
  {
   "cell_type": "code",
   "execution_count": null,
   "id": "63c1b98e",
   "metadata": {
    "slideshow": {
     "slide_type": "slide"
    }
   },
   "outputs": [],
   "source": [
    "git status"
   ]
  },
  {
   "cell_type": "code",
   "execution_count": null,
   "id": "95aab078",
   "metadata": {
    "slideshow": {
     "slide_type": "fragment"
    }
   },
   "outputs": [],
   "source": [
    "git add hello.txt"
   ]
  },
  {
   "cell_type": "markdown",
   "id": "350d3364",
   "metadata": {
    "slideshow": {
     "slide_type": "skip"
    }
   },
   "source": [
    "Ein Merge-Commit braucht keine explizite Commit-Message."
   ]
  },
  {
   "cell_type": "code",
   "execution_count": null,
   "id": "fe125a80",
   "metadata": {
    "slideshow": {
     "slide_type": "fragment"
    }
   },
   "outputs": [],
   "source": [
    "git commit --no-edit"
   ]
  },
  {
   "cell_type": "code",
   "execution_count": null,
   "id": "2b07e855",
   "metadata": {
    "slideshow": {
     "slide_type": "slide"
    }
   },
   "outputs": [],
   "source": [
    "git log --oneline"
   ]
  },
  {
   "cell_type": "markdown",
   "id": "5e84de24",
   "metadata": {
    "slideshow": {
     "slide_type": "skip"
    }
   },
   "source": [
    "Wir können uns hierzu auch einen Commit-Graphen anzeigen lassen."
   ]
  },
  {
   "cell_type": "code",
   "execution_count": null,
   "id": "741690f1",
   "metadata": {
    "slideshow": {
     "slide_type": "fragment"
    }
   },
   "outputs": [],
   "source": [
    "git log --oneline --graph"
   ]
  },
  {
   "cell_type": "markdown",
   "id": "73bbcd14",
   "metadata": {
    "slideshow": {
     "slide_type": "slide"
    }
   },
   "source": [
    "### Detached Head reparieren"
   ]
  },
  {
   "cell_type": "markdown",
   "id": "53250eb8",
   "metadata": {
    "slideshow": {
     "slide_type": "skip"
    }
   },
   "source": [
    "Erstellen wir nochmal den problematischen Detached Head:"
   ]
  },
  {
   "cell_type": "code",
   "execution_count": null,
   "id": "663e8da2",
   "metadata": {
    "slideshow": {
     "slide_type": "fragment"
    }
   },
   "outputs": [],
   "source": [
    "# Checkout first commit\n",
    "git checkout $COMMIT"
   ]
  },
  {
   "cell_type": "markdown",
   "id": "dffdef4d",
   "metadata": {
    "slideshow": {
     "slide_type": "skip"
    }
   },
   "source": [
    "Die Lösung des Problems liegt darin, für den aktuellen Zustand einen neuen Branch anzulegen."
   ]
  },
  {
   "cell_type": "code",
   "execution_count": null,
   "id": "50ab90bd",
   "metadata": {
    "slideshow": {
     "slide_type": "slide"
    }
   },
   "outputs": [],
   "source": [
    "git checkout -b new_feature"
   ]
  },
  {
   "cell_type": "code",
   "execution_count": null,
   "id": "51845cad",
   "metadata": {
    "slideshow": {
     "slide_type": "fragment"
    }
   },
   "outputs": [],
   "source": [
    "echo \"Adding hello to initial hello\" >> hello.txt"
   ]
  },
  {
   "cell_type": "code",
   "execution_count": null,
   "id": "6f049838",
   "metadata": {
    "slideshow": {
     "slide_type": "fragment"
    }
   },
   "outputs": [],
   "source": [
    "git add hello.txt"
   ]
  },
  {
   "cell_type": "code",
   "execution_count": null,
   "id": "1176168f",
   "metadata": {
    "slideshow": {
     "slide_type": "fragment"
    }
   },
   "outputs": [],
   "source": [
    "git commit -m \"Added hello in branch\""
   ]
  },
  {
   "cell_type": "code",
   "execution_count": null,
   "id": "8892de14",
   "metadata": {
    "slideshow": {
     "slide_type": "fragment"
    }
   },
   "outputs": [],
   "source": [
    "git log --oneline --graph"
   ]
  },
  {
   "cell_type": "markdown",
   "id": "48bf5f39",
   "metadata": {
    "slideshow": {
     "slide_type": "skip"
    }
   },
   "source": [
    "Diese Änderung ist natürlich noch nicht im Main-Branch:"
   ]
  },
  {
   "cell_type": "code",
   "execution_count": null,
   "id": "58a3a227",
   "metadata": {
    "slideshow": {
     "slide_type": "fragment"
    }
   },
   "outputs": [],
   "source": [
    "git checkout main"
   ]
  },
  {
   "cell_type": "code",
   "execution_count": null,
   "id": "bc7a2293",
   "metadata": {
    "slideshow": {
     "slide_type": "fragment"
    }
   },
   "outputs": [],
   "source": [
    "cat hello.txt"
   ]
  },
  {
   "cell_type": "markdown",
   "id": "ef8ff5ff",
   "metadata": {
    "slideshow": {
     "slide_type": "slide"
    }
   },
   "source": [
    "## Rebase"
   ]
  },
  {
   "cell_type": "markdown",
   "id": "4e9d3181",
   "metadata": {
    "slideshow": {
     "slide_type": "skip"
    }
   },
   "source": [
    "Ein Merge erzeugt einen expliziten Merge-Commit und eine Verzweigung in der Commit-Historie. Eine Alternative dazu ist ein Rebase, welches die Commits eines Branches auf einen alternativen Startpunkt anwendet. Wir erzeugen uns dazu wieder einen Branch der von dem ersten Commit verzweigt."
   ]
  },
  {
   "cell_type": "code",
   "execution_count": null,
   "id": "99d09b1f",
   "metadata": {
    "slideshow": {
     "slide_type": "fragment"
    }
   },
   "outputs": [],
   "source": [
    "git checkout $COMMIT"
   ]
  },
  {
   "cell_type": "code",
   "execution_count": null,
   "id": "11868a55",
   "metadata": {
    "slideshow": {
     "slide_type": "slide"
    }
   },
   "outputs": [],
   "source": [
    "git checkout -b rebase_feature"
   ]
  },
  {
   "cell_type": "markdown",
   "id": "13227707",
   "metadata": {
    "slideshow": {
     "slide_type": "skip"
    }
   },
   "source": [
    "In diesem Branch erzeugen wir eine neue Datei `hello2.txt`."
   ]
  },
  {
   "cell_type": "code",
   "execution_count": null,
   "id": "54873a1d",
   "metadata": {
    "slideshow": {
     "slide_type": "fragment"
    }
   },
   "outputs": [],
   "source": [
    "echo \"Hello again\" > hello2.txt"
   ]
  },
  {
   "cell_type": "code",
   "execution_count": null,
   "id": "4a289a07",
   "metadata": {
    "slideshow": {
     "slide_type": "fragment"
    }
   },
   "outputs": [],
   "source": [
    "git add hello2.txt\n",
    "git commit -m \"Add new hello file\""
   ]
  },
  {
   "cell_type": "markdown",
   "id": "3fffc940",
   "metadata": {
    "slideshow": {
     "slide_type": "skip"
    }
   },
   "source": [
    "In diesem Branch fehlen uns nun aber die ganzen Änderungen, die an der Datei `hello.txt` angwendet wurden:"
   ]
  },
  {
   "cell_type": "code",
   "execution_count": null,
   "id": "185032d2",
   "metadata": {
    "slideshow": {
     "slide_type": "fragment"
    }
   },
   "outputs": [],
   "source": [
    "cat hello.txt"
   ]
  },
  {
   "cell_type": "code",
   "execution_count": null,
   "id": "57c52d25",
   "metadata": {
    "slideshow": {
     "slide_type": "fragment"
    }
   },
   "outputs": [],
   "source": [
    "git log --oneline --graph"
   ]
  },
  {
   "cell_type": "markdown",
   "id": "b71387a3",
   "metadata": {
    "slideshow": {
     "slide_type": "skip"
    }
   },
   "source": [
    "Wir können den Branch `rebase_feature` aber mit dem aktuellen Main rebasen:"
   ]
  },
  {
   "cell_type": "code",
   "execution_count": null,
   "id": "b78966f9",
   "metadata": {
    "slideshow": {
     "slide_type": "slide"
    }
   },
   "outputs": [],
   "source": [
    "git rebase main"
   ]
  },
  {
   "cell_type": "markdown",
   "id": "72025bc7",
   "metadata": {
    "slideshow": {
     "slide_type": "skip"
    }
   },
   "source": [
    "Hierdurch wird der Commit, mit dem `hello2.txt` erstellt wurde, auf den Main angewendet."
   ]
  },
  {
   "cell_type": "code",
   "execution_count": null,
   "id": "b370799c",
   "metadata": {
    "slideshow": {
     "slide_type": "fragment"
    }
   },
   "outputs": [],
   "source": [
    "cat hello.txt"
   ]
  },
  {
   "cell_type": "code",
   "execution_count": null,
   "id": "7332c74c",
   "metadata": {
    "slideshow": {
     "slide_type": "fragment"
    }
   },
   "outputs": [],
   "source": [
    "git log --oneline --graph"
   ]
  },
  {
   "cell_type": "markdown",
   "id": "bbeb891c",
   "metadata": {
    "slideshow": {
     "slide_type": "skip"
    }
   },
   "source": [
    "Die Datei `hello2.txt` existiert aber noch nicht im Main:"
   ]
  },
  {
   "cell_type": "code",
   "execution_count": null,
   "id": "4ce5b184",
   "metadata": {
    "slideshow": {
     "slide_type": "fragment"
    }
   },
   "outputs": [],
   "source": [
    "git checkout main"
   ]
  },
  {
   "cell_type": "code",
   "execution_count": null,
   "id": "0a14e257",
   "metadata": {
    "slideshow": {
     "slide_type": "fragment"
    }
   },
   "outputs": [],
   "source": [
    "ls"
   ]
  },
  {
   "cell_type": "markdown",
   "id": "d0707bab",
   "metadata": {
    "slideshow": {
     "slide_type": "skip"
    }
   },
   "source": [
    "Wir müssen den Branch dazu nach Main mergen."
   ]
  },
  {
   "cell_type": "code",
   "execution_count": null,
   "id": "bc3d5c71",
   "metadata": {
    "slideshow": {
     "slide_type": "slide"
    }
   },
   "outputs": [],
   "source": [
    "git merge rebase_feature"
   ]
  },
  {
   "cell_type": "code",
   "execution_count": null,
   "id": "8438ab86",
   "metadata": {
    "slideshow": {
     "slide_type": "fragment"
    }
   },
   "outputs": [],
   "source": [
    "ls"
   ]
  },
  {
   "cell_type": "markdown",
   "id": "8b9cb036",
   "metadata": {
    "slideshow": {
     "slide_type": "skip"
    }
   },
   "source": [
    "Nachdem der Branch `rebase_feature` auf Main rebased war, wird ein Fast-Forward-Merge angewendet, d.h. es benötigt keinen eigenen Merge-Commit."
   ]
  },
  {
   "cell_type": "code",
   "execution_count": null,
   "id": "a87a9690",
   "metadata": {
    "slideshow": {
     "slide_type": "fragment"
    }
   },
   "outputs": [],
   "source": [
    "git log --oneline --graph"
   ]
  },
  {
   "cell_type": "markdown",
   "id": "8a7bc51b",
   "metadata": {
    "slideshow": {
     "slide_type": "slide"
    }
   },
   "source": [
    "## Stashing"
   ]
  },
  {
   "cell_type": "markdown",
   "id": "da5cd011",
   "metadata": {
    "slideshow": {
     "slide_type": "skip"
    }
   },
   "source": [
    "Es kann vorkommen, dass man Änderungen von anderer Stelle einpflegen muss, bevor das Feature, an dem man gerade arbeitet, fertig ist, sodass man es noch nicht committen will. Man kann die Änderungen, die noch nicht committed sind, auf einen \"Stash\" schieben."
   ]
  },
  {
   "cell_type": "code",
   "execution_count": null,
   "id": "e240758d",
   "metadata": {
    "slideshow": {
     "slide_type": "fragment"
    }
   },
   "outputs": [],
   "source": [
    "echo \"Some unfinished change\" >> hello.txt"
   ]
  },
  {
   "cell_type": "code",
   "execution_count": null,
   "id": "3efe0335",
   "metadata": {
    "slideshow": {
     "slide_type": "fragment"
    }
   },
   "outputs": [],
   "source": [
    "cat hello.txt"
   ]
  },
  {
   "cell_type": "code",
   "execution_count": null,
   "id": "04680caf",
   "metadata": {
    "slideshow": {
     "slide_type": "fragment"
    }
   },
   "outputs": [],
   "source": [
    "git status"
   ]
  },
  {
   "cell_type": "code",
   "execution_count": null,
   "id": "005d98c9",
   "metadata": {
    "slideshow": {
     "slide_type": "fragment"
    }
   },
   "outputs": [],
   "source": [
    "git stash"
   ]
  },
  {
   "cell_type": "markdown",
   "id": "d8797853",
   "metadata": {
    "slideshow": {
     "slide_type": "skip"
    }
   },
   "source": [
    "Damit sind nun alle Dateien wieder am gleichen Stand wie `master`."
   ]
  },
  {
   "cell_type": "code",
   "execution_count": null,
   "id": "67362777",
   "metadata": {
    "slideshow": {
     "slide_type": "slide"
    }
   },
   "outputs": [],
   "source": [
    "git status"
   ]
  },
  {
   "cell_type": "code",
   "execution_count": null,
   "id": "cc5a8ba4",
   "metadata": {
    "slideshow": {
     "slide_type": "fragment"
    }
   },
   "outputs": [],
   "source": [
    "cat hello.txt"
   ]
  },
  {
   "cell_type": "markdown",
   "id": "ee34b0ef",
   "metadata": {
    "slideshow": {
     "slide_type": "skip"
    }
   },
   "source": [
    "Um die lokalen Änderungen wieder einzufügen, verwendet man `stash apply`:"
   ]
  },
  {
   "cell_type": "code",
   "execution_count": null,
   "id": "346b166c",
   "metadata": {
    "slideshow": {
     "slide_type": "fragment"
    }
   },
   "outputs": [],
   "source": [
    "git stash apply"
   ]
  },
  {
   "cell_type": "code",
   "execution_count": null,
   "id": "688e7067",
   "metadata": {
    "slideshow": {
     "slide_type": "fragment"
    }
   },
   "outputs": [],
   "source": [
    "cat hello.txt"
   ]
  },
  {
   "cell_type": "code",
   "execution_count": null,
   "id": "98bcde7f",
   "metadata": {
    "slideshow": {
     "slide_type": "fragment"
    }
   },
   "outputs": [],
   "source": [
    "# Houskeeping for Jupyter notebook\n",
    "cd ..\n",
    "rm -rf dev1"
   ]
  },
  {
   "cell_type": "markdown",
   "id": "95f89967",
   "metadata": {
    "slideshow": {
     "slide_type": "slide"
    }
   },
   "source": [
    "## Mehrere Benutzer und Remote Repositories"
   ]
  },
  {
   "cell_type": "markdown",
   "id": "0a7cead0",
   "metadata": {
    "slideshow": {
     "slide_type": "skip"
    }
   },
   "source": [
    "Git ist ein verteiles Versionskontrollsystem, d.h. es kann mehrere Klone des Repositories geben, und man kann Änderungen dazwischen austauschen. Wir legen uns für das Notebook ein neues \"Remote\" Repository an, auf welches 2 simulierte Entwickler Zugriff haben sollen:"
   ]
  },
  {
   "cell_type": "code",
   "execution_count": null,
   "id": "454f6228",
   "metadata": {
    "slideshow": {
     "slide_type": "fragment"
    }
   },
   "outputs": [],
   "source": [
    "mkdir remote_repo\n",
    "cd remote_repo\n",
    "git init --bare"
   ]
  },
  {
   "cell_type": "markdown",
   "id": "cd84f795",
   "metadata": {
    "slideshow": {
     "slide_type": "skip"
    }
   },
   "source": [
    "Entwickler 1 und Entwickler 2 können sich Klone des Repositories mit dem \"clone\" Befehl erstellen. (Der Befehl wird aktuell noch meckern dass das Repository leer ist)."
   ]
  },
  {
   "cell_type": "code",
   "execution_count": null,
   "id": "9a31867d",
   "metadata": {
    "slideshow": {
     "slide_type": "fragment"
    }
   },
   "outputs": [],
   "source": [
    "cd .."
   ]
  },
  {
   "cell_type": "code",
   "execution_count": null,
   "id": "5508427f",
   "metadata": {
    "slideshow": {
     "slide_type": "fragment"
    }
   },
   "outputs": [],
   "source": [
    "git clone remote_repo dev1"
   ]
  },
  {
   "cell_type": "code",
   "execution_count": null,
   "id": "f47cbcab",
   "metadata": {
    "slideshow": {
     "slide_type": "fragment"
    }
   },
   "outputs": [],
   "source": [
    "git clone remote_repo dev2"
   ]
  },
  {
   "cell_type": "markdown",
   "id": "d92acaf2",
   "metadata": {
    "slideshow": {
     "slide_type": "skip"
    }
   },
   "source": [
    "Zunächst simulieren wir, dass Entwickler 1 in seinem Workspace arbeitet."
   ]
  },
  {
   "cell_type": "code",
   "execution_count": null,
   "id": "cde7c452",
   "metadata": {
    "slideshow": {
     "slide_type": "slide"
    }
   },
   "outputs": [],
   "source": [
    "cd dev1"
   ]
  },
  {
   "cell_type": "code",
   "execution_count": null,
   "id": "2cc2bbde",
   "metadata": {
    "slideshow": {
     "slide_type": "fragment"
    }
   },
   "outputs": [],
   "source": [
    "echo \"I am developer 1\" >> hello.txt\n",
    "git add hello.txt\n",
    "git commit -m \"Hello 1\""
   ]
  },
  {
   "cell_type": "markdown",
   "id": "a7c0a14d",
   "metadata": {
    "slideshow": {
     "slide_type": "skip"
    }
   },
   "source": [
    "Um die Änderungen im eigenen Repository an das \"Remote\" Repository zu schieben, dient der \"push\" Befehl:"
   ]
  },
  {
   "cell_type": "code",
   "execution_count": null,
   "id": "68da0297",
   "metadata": {
    "slideshow": {
     "slide_type": "fragment"
    }
   },
   "outputs": [],
   "source": [
    "git push"
   ]
  },
  {
   "cell_type": "markdown",
   "id": "00cf1572",
   "metadata": {
    "slideshow": {
     "slide_type": "skip"
    }
   },
   "source": [
    "Entwickler 2 kann nun diese Änderungen vom Remote Repository in das eigene \"pullen\":"
   ]
  },
  {
   "cell_type": "code",
   "execution_count": null,
   "id": "e5edeeda",
   "metadata": {
    "slideshow": {
     "slide_type": "slide"
    }
   },
   "outputs": [],
   "source": [
    "cd ..\n",
    "cd dev2"
   ]
  },
  {
   "cell_type": "markdown",
   "id": "02adb16f",
   "metadata": {
    "slideshow": {
     "slide_type": "skip"
    }
   },
   "source": [
    "Noch ist das Repository leer:"
   ]
  },
  {
   "cell_type": "code",
   "execution_count": null,
   "id": "ef04b2f2",
   "metadata": {
    "slideshow": {
     "slide_type": "fragment"
    }
   },
   "outputs": [],
   "source": [
    "ls"
   ]
  },
  {
   "cell_type": "markdown",
   "id": "1fa02cad",
   "metadata": {
    "slideshow": {
     "slide_type": "skip"
    }
   },
   "source": [
    "Änderungen ziehen passiert mit \"pull\":"
   ]
  },
  {
   "cell_type": "code",
   "execution_count": null,
   "id": "c02ae767",
   "metadata": {
    "slideshow": {
     "slide_type": "fragment"
    }
   },
   "outputs": [],
   "source": [
    "git pull"
   ]
  },
  {
   "cell_type": "code",
   "execution_count": null,
   "id": "2248fee3",
   "metadata": {
    "slideshow": {
     "slide_type": "fragment"
    }
   },
   "outputs": [],
   "source": [
    "cat hello.txt"
   ]
  },
  {
   "cell_type": "markdown",
   "id": "e5279394",
   "metadata": {
    "slideshow": {
     "slide_type": "skip"
    }
   },
   "source": [
    "Nun arbeitet auch Entwickler 2 im eigenen Workspace."
   ]
  },
  {
   "cell_type": "code",
   "execution_count": null,
   "id": "f0d93540",
   "metadata": {
    "slideshow": {
     "slide_type": "slide"
    }
   },
   "outputs": [],
   "source": [
    "echo \"I am developer 2\" >> hello.txt\n",
    "git add hello.txt\n",
    "git commit -m \"Add hello from developer 2\""
   ]
  },
  {
   "cell_type": "markdown",
   "id": "4394e093",
   "metadata": {
    "slideshow": {
     "slide_type": "skip"
    }
   },
   "source": [
    "Die Änderungen können per \"push\" wieder geteilt werden."
   ]
  },
  {
   "cell_type": "code",
   "execution_count": null,
   "id": "6308db14",
   "metadata": {
    "slideshow": {
     "slide_type": "fragment"
    }
   },
   "outputs": [],
   "source": [
    "git push"
   ]
  },
  {
   "cell_type": "markdown",
   "id": "c88ed5e4",
   "metadata": {
    "slideshow": {
     "slide_type": "skip"
    }
   },
   "source": [
    "Entwickler 1 kann sich diese Änderungen mit \"pull\" holen."
   ]
  },
  {
   "cell_type": "code",
   "execution_count": null,
   "id": "5381beba",
   "metadata": {
    "slideshow": {
     "slide_type": "slide"
    }
   },
   "outputs": [],
   "source": [
    "cd ..\n",
    "cd dev1"
   ]
  },
  {
   "cell_type": "code",
   "execution_count": null,
   "id": "4051318e",
   "metadata": {
    "slideshow": {
     "slide_type": "fragment"
    }
   },
   "outputs": [],
   "source": [
    "cat hello.txt"
   ]
  },
  {
   "cell_type": "code",
   "execution_count": null,
   "id": "4e29943c",
   "metadata": {
    "slideshow": {
     "slide_type": "fragment"
    }
   },
   "outputs": [],
   "source": [
    "git pull"
   ]
  },
  {
   "cell_type": "code",
   "execution_count": null,
   "id": "5cb8ed56",
   "metadata": {
    "slideshow": {
     "slide_type": "subslide"
    }
   },
   "outputs": [],
   "source": [
    "git log"
   ]
  },
  {
   "cell_type": "code",
   "execution_count": null,
   "id": "177cff11",
   "metadata": {
    "slideshow": {
     "slide_type": "fragment"
    }
   },
   "outputs": [],
   "source": [
    "cat hello.txt"
   ]
  },
  {
   "cell_type": "code",
   "execution_count": null,
   "id": "e22b2c7f",
   "metadata": {
    "slideshow": {
     "slide_type": "fragment"
    }
   },
   "outputs": [],
   "source": [
    "cd .."
   ]
  },
  {
   "cell_type": "markdown",
   "id": "2d2f5604",
   "metadata": {
    "slideshow": {
     "slide_type": "slide"
    }
   },
   "source": [
    "## Remotes"
   ]
  },
  {
   "cell_type": "markdown",
   "id": "ddeafad5",
   "metadata": {
    "slideshow": {
     "slide_type": "skip"
    }
   },
   "source": [
    "Ein Git Repository ist nicht an ein einzelnes Remote-Repository gebunden, sondern kann sich mit beliebig vielen anderen Repositories austauschen. Klonen wir zunächst ein Repository von GitHub:"
   ]
  },
  {
   "cell_type": "code",
   "execution_count": null,
   "id": "05a14ebd",
   "metadata": {
    "slideshow": {
     "slide_type": "fragment"
    }
   },
   "outputs": [],
   "source": [
    "git clone https://github.com/se2p/se2022-gitexample.git"
   ]
  },
  {
   "cell_type": "code",
   "execution_count": null,
   "id": "5fb48a3a",
   "metadata": {
    "slideshow": {
     "slide_type": "fragment"
    }
   },
   "outputs": [],
   "source": [
    "cd se2022-gitexample"
   ]
  },
  {
   "cell_type": "markdown",
   "id": "1d752016",
   "metadata": {
    "slideshow": {
     "slide_type": "skip"
    }
   },
   "source": [
    "Wenn ein Repository per \"clone\" erstellt wird, dann heisst das Upstream-Repository `origin`. Wir können uns ansehen, wo `origin` liegt:"
   ]
  },
  {
   "cell_type": "code",
   "execution_count": null,
   "id": "062c87a5",
   "metadata": {
    "slideshow": {
     "slide_type": "fragment"
    }
   },
   "outputs": [],
   "source": [
    "git remote get-url origin"
   ]
  },
  {
   "cell_type": "markdown",
   "id": "22d64d73",
   "metadata": {
    "slideshow": {
     "slide_type": "skip"
    }
   },
   "source": [
    "Legen wir uns noch einen Klon des neuen Repositories an:"
   ]
  },
  {
   "cell_type": "code",
   "execution_count": null,
   "id": "e2f0ee41",
   "metadata": {
    "slideshow": {
     "slide_type": "slide"
    }
   },
   "outputs": [],
   "source": [
    "cd ..\n",
    "git clone se2022-gitexample another_clone"
   ]
  },
  {
   "cell_type": "code",
   "execution_count": null,
   "id": "0553f7d2",
   "metadata": {
    "slideshow": {
     "slide_type": "fragment"
    }
   },
   "outputs": [],
   "source": [
    "cd another_clone"
   ]
  },
  {
   "cell_type": "markdown",
   "id": "87cf0427",
   "metadata": {
    "slideshow": {
     "slide_type": "skip"
    }
   },
   "source": [
    "`origin` ist nun einfach das Verzeichnis unseres lokalen Git-Repositories, das wir eben geklont haben:"
   ]
  },
  {
   "cell_type": "code",
   "execution_count": null,
   "id": "086ebb21",
   "metadata": {
    "slideshow": {
     "slide_type": "fragment"
    }
   },
   "outputs": [],
   "source": [
    "git remote get-url origin"
   ]
  },
  {
   "cell_type": "markdown",
   "id": "79a87eea",
   "metadata": {
    "slideshow": {
     "slide_type": "skip"
    }
   },
   "source": [
    "Wir können aber nun auch das GitHub-Repository als Remote hinzufügen:"
   ]
  },
  {
   "cell_type": "code",
   "execution_count": null,
   "id": "770af740",
   "metadata": {
    "slideshow": {
     "slide_type": "fragment"
    }
   },
   "outputs": [],
   "source": [
    "git remote add github https://github.com/se2p/se2022-gitexample.git"
   ]
  },
  {
   "cell_type": "markdown",
   "id": "fa4248df",
   "metadata": {
    "slideshow": {
     "slide_type": "skip"
    }
   },
   "source": [
    "Unser Repository hat nun zwei Remotes:"
   ]
  },
  {
   "cell_type": "code",
   "execution_count": null,
   "id": "78268f15",
   "metadata": {
    "slideshow": {
     "slide_type": "fragment"
    }
   },
   "outputs": [],
   "source": [
    "git remote"
   ]
  },
  {
   "cell_type": "markdown",
   "id": "149c365c",
   "metadata": {
    "slideshow": {
     "slide_type": "skip"
    }
   },
   "source": [
    "Der Name des Remotes kann bei einem `push` angegeben werden."
   ]
  },
  {
   "cell_type": "markdown",
   "id": "fdb43437",
   "metadata": {
    "slideshow": {
     "slide_type": "skip"
    }
   },
   "source": [
    "### Hinweis zum Pushen von Branches an Remotes\n",
    "\n",
    "Befindet man sich in einem Branch, der auf einem Remote noch nicht existiert, so resultiert ein `git push` in der folgenden Fehlermeldung:\n",
    "\n",
    "```\n",
    "fatal: The current branch Foo has no upstream branch.\n",
    "To push the current branch and set the remote as upstream, use\n",
    "\n",
    "    git push --set-upstream origin <branchname>\n",
    "```\n",
    "\n",
    "Durch Eingabe des vorgegebenen Befehls `git push --set-upstream origin <branchname>` wird der Branch am Remote `origin` angelegt. Danach kann man Dateiänderungen direkt in den Remote-Branch pushen. Alternativ erlaubt auch `git push --all` dass _alle_ Branches gepushed werden."
   ]
  },
  {
   "cell_type": "markdown",
   "id": "05f392db",
   "metadata": {
    "slideshow": {
     "slide_type": "skip"
    }
   },
   "source": [
    "### Hinweis zum Pushen von Tags an Remotes\n",
    "\n",
    "Wenn nicht nur Dateiänderungen sondern auch Tags gepushed werden sollen, so muss man den Tagnamen der gepushed werden soll angeben: `git push origin <tagname>`. Alternativ pushed `git push --follow-tags` einfach alle Tags.\n"
   ]
  },
  {
   "cell_type": "code",
   "execution_count": null,
   "id": "61f7f784",
   "metadata": {
    "slideshow": {
     "slide_type": "skip"
    }
   },
   "outputs": [],
   "source": [
    "# Clean up notebook\n",
    "cd ../..\n",
    "rm -rf tmp"
   ]
  }
 ],
 "metadata": {
  "kernelspec": {
   "display_name": "Bash",
   "language": "bash",
   "name": "bash"
  },
  "language_info": {
   "codemirror_mode": "shell",
   "file_extension": ".sh",
   "mimetype": "text/x-sh",
   "name": "bash"
  }
 },
 "nbformat": 4,
 "nbformat_minor": 5
}
