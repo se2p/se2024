{
 "cells": [
  {
   "cell_type": "markdown",
   "id": "aaf151a0",
   "metadata": {
    "slideshow": {
     "slide_type": "slide"
    }
   },
   "source": [
    "# Einführung: Recap Objektorientierte Programmierung in Java"
   ]
  },
  {
   "cell_type": "markdown",
   "id": "a7c235cd",
   "metadata": {
    "slideshow": {
     "slide_type": "skip"
    }
   },
   "source": [
    "Im Laufe der Vorlesung beschäftigen wir uns mit einer Vielzahl von Problemen rund um die Softwareentwicklung. Das Programmieren ist hierbei nur ein kleiner Teil, und das Ziel der Vorlesung ist nicht euch Programmieren beizubringen -- das solltet ihr bereits aus Programmieren 1 (und eventuell auch Programmieren 2) kennen. Allerdings benötigen wir ein Grundverständnis von Programmierkonzepten und der Objektorientierung, um sinnvoll über andere Aspekte wie beispielsweise Design zu sprechen. Wir beginnen daher mit einer kurzen Wiederholung wichtiger Konzepte der Objektorientierung. Dieses Jupyter Notebook soll dabei nur als Erinnerung dienen und ist keine vollständige Abhandlung von Objektorientierter Programmierung (dazu gibt es ganze Bücher)."
   ]
  },
  {
   "cell_type": "markdown",
   "id": "8b5625b0",
   "metadata": {
    "slideshow": {
     "slide_type": "skip"
    }
   },
   "source": [
    "Hinweis: Dieses Jupyter-Notebook soll nicht als vollständiges Scriptum zur Vorlesung dienen. Der Hauptzweck ist, die Code/Diagramm-Beispiele, die ich im Laufe der Vorlesung erstelle, zu sammeln und zugänglich zu machen."
   ]
  },
  {
   "cell_type": "markdown",
   "id": "df219ed6",
   "metadata": {
    "slideshow": {
     "slide_type": "skip"
    }
   },
   "source": [
    "Die Quellen zu den Jupyter Notebooks zur Vorlesung werden über das Semester hinweg hier gesammelt: [https://github.com/se2p/se2024](https://github.com/se2p/se2024) (Wie man Git benutzt behandeln wir in Woche 2)."
   ]
  },
  {
   "cell_type": "markdown",
   "id": "a268c66d",
   "metadata": {
    "slideshow": {
     "slide_type": "slide"
    }
   },
   "source": [
    "## UML Klassendiagramme"
   ]
  },
  {
   "cell_type": "markdown",
   "id": "8fb14877",
   "metadata": {
    "slideshow": {
     "slide_type": "skip"
    }
   },
   "source": [
    "UML ist die _Unified Modeling Language_, und bezeichnet eine Reihe von Diagrammen mit denen verschiedene Aspekte von Softwaresystemen beschrieben werden können. Wir werden im Laufe der Vorlesung verschiedene Diagrammarten kennenlernen, wir benötigen für diese Einheit einen ersten Teil der wichtigsten Diagrammart: *Klassendiagramme*."
   ]
  },
  {
   "cell_type": "markdown",
   "id": "f26bb4cb",
   "metadata": {
    "slideshow": {
     "slide_type": "skip"
    }
   },
   "source": [
    "Als Beispiel verwenden wir eine Klasse für ein Auto (`Car`), als Teil eines Online-Verkaufssystems. Dazu braucht ein `Car` Attribute wie `price` oder `location`, die den Zustand eines Objektes definieren. Zur Interaktion soll die Klasse eine Schnittstelle durch Methoden `getPrice` und `getLocation` bieten. Diese Klasse wird durch das folgende Klassendiagramm beschrieben:"
   ]
  },
  {
   "cell_type": "markdown",
   "id": "6deda817",
   "metadata": {
    "slideshow": {
     "slide_type": "fragment"
    }
   },
   "source": [
    "![Car class diagram](img/1/car.png)"
   ]
  },
  {
   "cell_type": "markdown",
   "id": "529cf897",
   "metadata": {
    "slideshow": {
     "slide_type": "skip"
    }
   },
   "source": [
    "Wir verwenden [PlantUML](https://plantuml.com/) um UML Diagramme zu erzeugen. Wir werden PlantUML noch genauer vorstellen wenn wir im Laufe der Vorlesung dann eigene UML Diagramme erstellen."
   ]
  },
  {
   "cell_type": "markdown",
   "id": "07f4f1af",
   "metadata": {
    "slideshow": {
     "slide_type": "skip"
    }
   },
   "source": [
    "Die gleiche Klasse in Java implementiert sieht so aus:"
   ]
  },
  {
   "cell_type": "code",
   "execution_count": null,
   "id": "c072d03a",
   "metadata": {
    "slideshow": {
     "slide_type": "fragment"
    }
   },
   "outputs": [],
   "source": [
    "class Car {\n",
    "    private int price;\n",
    "    \n",
    "    private String location;\n",
    "    \n",
    "    public Car(int price, String location) {\n",
    "        this.price = price;\n",
    "        this.location = location;\n",
    "    }\n",
    "    \n",
    "    public int getPrice() {\n",
    "        return price;\n",
    "    }\n",
    "    \n",
    "    public String getLocation() {\n",
    "        return location;\n",
    "    }\n",
    "}"
   ]
  },
  {
   "cell_type": "code",
   "execution_count": null,
   "id": "72270103",
   "metadata": {
    "slideshow": {
     "slide_type": "subslide"
    }
   },
   "outputs": [],
   "source": [
    "Car car = new Car(1000, \"Passau\")"
   ]
  },
  {
   "cell_type": "code",
   "execution_count": null,
   "id": "233f69ff",
   "metadata": {
    "slideshow": {
     "slide_type": "fragment"
    }
   },
   "outputs": [],
   "source": [
    "car.getPrice()"
   ]
  },
  {
   "cell_type": "code",
   "execution_count": null,
   "id": "413fa97b",
   "metadata": {
    "slideshow": {
     "slide_type": "fragment"
    }
   },
   "outputs": [],
   "source": [
    "car.getLocation()"
   ]
  },
  {
   "cell_type": "markdown",
   "id": "68f14b52",
   "metadata": {
    "slideshow": {
     "slide_type": "slide"
    }
   },
   "source": [
    "## Objektidentität und Objektgleichheit"
   ]
  },
  {
   "cell_type": "markdown",
   "id": "0af28435",
   "metadata": {
    "slideshow": {
     "slide_type": "skip"
    }
   },
   "source": [
    "Ein Objekt ist systemweit eindeutig identifizierbar, es kann den Zustand ändern aber behält die gleiche Identität. Um den Unterschied zu demonstrieren, erweitern wir die `Car` Klasse um eine `equals` Methode, die den Objektzustand zweier `Car` Instanzen vergleicht. Wir fügen auch noch eine `toString` Methode hinzu, damit wir die Objektzustände einfacher ausgeben lassen können."
   ]
  },
  {
   "cell_type": "code",
   "execution_count": null,
   "id": "d3376851",
   "metadata": {
    "slideshow": {
     "slide_type": "fragment"
    }
   },
   "outputs": [],
   "source": [
    "class Car {\n",
    "    private int price;\n",
    "    private String location;\n",
    "    \n",
    "    public Car(int price, String location) {\n",
    "        this.price = price;\n",
    "        this.location = location;\n",
    "    }\n",
    "    \n",
    "    public int getPrice() {\n",
    "        return price;\n",
    "    }\n",
    "    \n",
    "    public String getLocation() {\n",
    "        return location;\n",
    "    }\n",
    "    \n",
    "    public boolean equals(Object other) {\n",
    "        if (other.getClass() != Car.class) {\n",
    "            return false;\n",
    "        }\n",
    "        Car otherCar = (Car) other;\n",
    "        return price == otherCar.price && location.equals(otherCar.location);\n",
    "    }\n",
    "    \n",
    "    public String toString() {\n",
    "        return \"Car value = \" + price +\", location = \" + location;\n",
    "    }\n",
    "}"
   ]
  },
  {
   "cell_type": "markdown",
   "id": "923bef60",
   "metadata": {
    "slideshow": {
     "slide_type": "skip"
    }
   },
   "source": [
    "Wir legen zwei Instanzen an:"
   ]
  },
  {
   "cell_type": "code",
   "execution_count": null,
   "id": "f00699a8",
   "metadata": {
    "slideshow": {
     "slide_type": "subslide"
    }
   },
   "outputs": [],
   "source": [
    "Car car1 = new Car(100, \"Passau\");"
   ]
  },
  {
   "cell_type": "code",
   "execution_count": null,
   "id": "0150fc2c",
   "metadata": {
    "slideshow": {
     "slide_type": "fragment"
    }
   },
   "outputs": [],
   "source": [
    "Car car2 = new Car(200, \"München\");"
   ]
  },
  {
   "cell_type": "code",
   "execution_count": null,
   "id": "e4b3333d",
   "metadata": {
    "slideshow": {
     "slide_type": "fragment"
    }
   },
   "outputs": [],
   "source": [
    "car1"
   ]
  },
  {
   "cell_type": "code",
   "execution_count": null,
   "id": "f124cac7",
   "metadata": {
    "slideshow": {
     "slide_type": "fragment"
    }
   },
   "outputs": [],
   "source": [
    "car2"
   ]
  },
  {
   "cell_type": "markdown",
   "id": "1d3c9a79",
   "metadata": {
    "slideshow": {
     "slide_type": "skip"
    }
   },
   "source": [
    "Objektidentität wird mithilfe des `==` Operators ermittelt:"
   ]
  },
  {
   "cell_type": "code",
   "execution_count": null,
   "id": "2053f514",
   "metadata": {
    "slideshow": {
     "slide_type": "fragment"
    }
   },
   "outputs": [],
   "source": [
    "car1 == car2"
   ]
  },
  {
   "cell_type": "code",
   "execution_count": null,
   "id": "b236aa89",
   "metadata": {
    "slideshow": {
     "slide_type": "fragment"
    }
   },
   "outputs": [],
   "source": [
    "car1 == car1"
   ]
  },
  {
   "cell_type": "markdown",
   "id": "98001a55",
   "metadata": {
    "slideshow": {
     "slide_type": "skip"
    }
   },
   "source": [
    "Objektgleichheit wird mithilfe der `equals` Methode ermittelt:"
   ]
  },
  {
   "cell_type": "code",
   "execution_count": null,
   "id": "03a16870",
   "metadata": {
    "slideshow": {
     "slide_type": "fragment"
    }
   },
   "outputs": [],
   "source": [
    "car1.equals(car2)"
   ]
  },
  {
   "cell_type": "code",
   "execution_count": null,
   "id": "a6185eb6",
   "metadata": {
    "slideshow": {
     "slide_type": "fragment"
    }
   },
   "outputs": [],
   "source": [
    "car1.equals(car1)"
   ]
  },
  {
   "cell_type": "markdown",
   "id": "3d068a1c",
   "metadata": {
    "slideshow": {
     "slide_type": "skip"
    }
   },
   "source": [
    "Legen wir nun noch ein drittes Auto an, mit gleichem Objektzustand wir `car1`."
   ]
  },
  {
   "cell_type": "code",
   "execution_count": null,
   "id": "b3e63ee9",
   "metadata": {
    "slideshow": {
     "slide_type": "subslide"
    }
   },
   "outputs": [],
   "source": [
    "Car car3 = new Car(100, \"Passau\");"
   ]
  },
  {
   "cell_type": "code",
   "execution_count": null,
   "id": "15ae79a5",
   "metadata": {
    "slideshow": {
     "slide_type": "fragment"
    }
   },
   "outputs": [],
   "source": [
    "car1 == car3"
   ]
  },
  {
   "cell_type": "code",
   "execution_count": null,
   "id": "c3b4bc11",
   "metadata": {
    "slideshow": {
     "slide_type": "fragment"
    }
   },
   "outputs": [],
   "source": [
    "car1.equals(car3)"
   ]
  },
  {
   "cell_type": "markdown",
   "id": "e453b185",
   "metadata": {
    "slideshow": {
     "slide_type": "skip"
    }
   },
   "source": [
    "Der Zusammenhang der Objekt kann auch in einem UML _Objektdiagramm_ erkannt werden. Ein UML Objektdiagramm ist sehr ähnlich zu einem Klassendiagramm und verwendet die gleiche Notation, aber es zeigt konkrete Objekte und deren Attributwerte. Objektdiagramme werden hauptsächlich verwendet um Beispiele zu Klassendiagrammen zum besseren Verständnis zu zeigen."
   ]
  },
  {
   "cell_type": "markdown",
   "id": "0bb5c039",
   "metadata": {
    "slideshow": {
     "slide_type": "fragment"
    }
   },
   "source": [
    "![Object diagram](img/1/object.png)"
   ]
  },
  {
   "cell_type": "markdown",
   "id": "56dcf222",
   "metadata": {
    "slideshow": {
     "slide_type": "skip"
    }
   },
   "source": [
    "(Die UML Diagramme in dieser Vorlesung sind allgemein wenig komplex da wir Assoziationen zwischen Klassen noch nicht betrachten; dies kommt in einer späteren Vorlesung)."
   ]
  },
  {
   "cell_type": "markdown",
   "id": "48ace69a",
   "metadata": {
    "slideshow": {
     "slide_type": "skip"
    }
   },
   "source": [
    "Beachte dass `car1` in Java nicht das Objekt selbst ist, sondern eine Referenz auf das Objekt. Wir können weitere Referenzen auf das selbe Objekt anlegen."
   ]
  },
  {
   "cell_type": "code",
   "execution_count": null,
   "id": "75d7309e",
   "metadata": {
    "slideshow": {
     "slide_type": "subslide"
    }
   },
   "outputs": [],
   "source": [
    "Car car4 = car1;"
   ]
  },
  {
   "cell_type": "markdown",
   "id": "97803304",
   "metadata": {
    "slideshow": {
     "slide_type": "skip"
    }
   },
   "source": [
    "Die Objektreferenz `car4` referenziert das identische Objekt wie `car1`:"
   ]
  },
  {
   "cell_type": "code",
   "execution_count": null,
   "id": "fa1d1fc2",
   "metadata": {
    "slideshow": {
     "slide_type": "fragment"
    }
   },
   "outputs": [],
   "source": [
    "car4 == car1"
   ]
  },
  {
   "cell_type": "code",
   "execution_count": null,
   "id": "63a9d902",
   "metadata": {
    "slideshow": {
     "slide_type": "fragment"
    }
   },
   "outputs": [],
   "source": [
    "car4 == car3"
   ]
  },
  {
   "cell_type": "code",
   "execution_count": null,
   "id": "2da82ec1",
   "metadata": {
    "slideshow": {
     "slide_type": "fragment"
    }
   },
   "outputs": [],
   "source": [
    "car4.equals(car1)"
   ]
  },
  {
   "cell_type": "code",
   "execution_count": null,
   "id": "a72893b2",
   "metadata": {
    "slideshow": {
     "slide_type": "fragment"
    }
   },
   "outputs": [],
   "source": [
    "car4.equals(car3)"
   ]
  },
  {
   "cell_type": "markdown",
   "id": "dee3bfcb",
   "metadata": {
    "slideshow": {
     "slide_type": "slide"
    }
   },
   "source": [
    "## Vererbung"
   ]
  },
  {
   "cell_type": "markdown",
   "id": "9193fd43",
   "metadata": {
    "slideshow": {
     "slide_type": "skip"
    }
   },
   "source": [
    "Vererbung ist ein Mechanismus um neue Klassen mit Hilfe bereits bestehender Klassen zu definieren. Gegeben die folgende Klasse `Person`."
   ]
  },
  {
   "cell_type": "code",
   "execution_count": null,
   "id": "4204c060",
   "metadata": {
    "slideshow": {
     "slide_type": "fragment"
    }
   },
   "outputs": [],
   "source": [
    "class Person {\n",
    "  protected String name;\n",
    "  protected int age;\n",
    "  \n",
    "  public Person(String name, int age) {\n",
    "    this.name = name;\n",
    "    this.age = age;\n",
    "  }\n",
    "\n",
    "  public void increaseAge() {\n",
    "    age++;\n",
    "  }\n",
    "  \n",
    "  public String toString() {\n",
    "    return \"Person \" + name + \": \" + age;\n",
    "  }\n",
    "}"
   ]
  },
  {
   "cell_type": "markdown",
   "id": "ee75940c",
   "metadata": {
    "slideshow": {
     "slide_type": "skip"
    }
   },
   "source": [
    "Legen wir zunächst ein Beispielobjekt an."
   ]
  },
  {
   "cell_type": "code",
   "execution_count": null,
   "id": "35efb4fd",
   "metadata": {
    "slideshow": {
     "slide_type": "subslide"
    }
   },
   "outputs": [],
   "source": [
    "Person p = new Person(\"Bob\", 21)"
   ]
  },
  {
   "cell_type": "code",
   "execution_count": null,
   "id": "bd123728",
   "metadata": {
    "slideshow": {
     "slide_type": "fragment"
    }
   },
   "outputs": [],
   "source": [
    "p"
   ]
  },
  {
   "cell_type": "code",
   "execution_count": null,
   "id": "741eab32",
   "metadata": {
    "slideshow": {
     "slide_type": "fragment"
    }
   },
   "outputs": [],
   "source": [
    "p.increaseAge()"
   ]
  },
  {
   "cell_type": "code",
   "execution_count": null,
   "id": "550b9e95",
   "metadata": {
    "slideshow": {
     "slide_type": "fragment"
    }
   },
   "outputs": [],
   "source": [
    "p"
   ]
  },
  {
   "cell_type": "markdown",
   "id": "0225f54f",
   "metadata": {
    "slideshow": {
     "slide_type": "skip"
    }
   },
   "source": [
    "Wir definieren nun eine Unterklasse `Employee`, diese erbt die Attribute und Methoden der Superklasse `Person`, aber kann neue Attribute und Methoden definieren. Im UML-Klassendiagramm wird die Vererbungsbeziehung wie folgt dargestellt:"
   ]
  },
  {
   "cell_type": "markdown",
   "id": "59f6c977",
   "metadata": {
    "slideshow": {
     "slide_type": "subslide"
    }
   },
   "source": [
    "![Person and Employee class extension](img/1/person.png)"
   ]
  },
  {
   "cell_type": "markdown",
   "id": "87eacf0e",
   "metadata": {
    "slideshow": {
     "slide_type": "skip"
    }
   },
   "source": [
    "In Java implementiert sieht die Unterklasse `Employee` so aus:"
   ]
  },
  {
   "cell_type": "code",
   "execution_count": null,
   "id": "bd181d57",
   "metadata": {
    "slideshow": {
     "slide_type": "fragment"
    }
   },
   "outputs": [],
   "source": [
    "class Employee extends Person {\n",
    "  private int salary;\n",
    "  \n",
    "  public Employee(String name, int age, int salary) {\n",
    "    super(name, age);\n",
    "    this.salary = salary;\n",
    "  }\n",
    "  \n",
    "  public void increaseSalary() {\n",
    "    salary += 1000;\n",
    "  }\n",
    "  \n",
    "  public String toString() {\n",
    "    return \"Employee \" + name + \": \" + age +\" earns \" + salary;\n",
    "  }\n",
    "}"
   ]
  },
  {
   "cell_type": "code",
   "execution_count": null,
   "id": "c5d576b5",
   "metadata": {
    "slideshow": {
     "slide_type": "subslide"
    }
   },
   "outputs": [],
   "source": [
    "Employee e = new Employee(\"John\", 33, 5000)"
   ]
  },
  {
   "cell_type": "code",
   "execution_count": null,
   "id": "2a933dda",
   "metadata": {
    "slideshow": {
     "slide_type": "fragment"
    }
   },
   "outputs": [],
   "source": [
    "e"
   ]
  },
  {
   "cell_type": "markdown",
   "id": "2047cad1",
   "metadata": {
    "slideshow": {
     "slide_type": "skip"
    }
   },
   "source": [
    "Objekte vom Typ `Employee` haben Zugriff auf die in der Klasse definierten Methoden:"
   ]
  },
  {
   "cell_type": "code",
   "execution_count": null,
   "id": "0d341fa8",
   "metadata": {
    "slideshow": {
     "slide_type": "fragment"
    }
   },
   "outputs": [],
   "source": [
    "e.increaseSalary()"
   ]
  },
  {
   "cell_type": "code",
   "execution_count": null,
   "id": "a187c9df",
   "metadata": {
    "slideshow": {
     "slide_type": "fragment"
    }
   },
   "outputs": [],
   "source": [
    "e"
   ]
  },
  {
   "cell_type": "markdown",
   "id": "b3e930f3",
   "metadata": {
    "slideshow": {
     "slide_type": "skip"
    }
   },
   "source": [
    "Objekte vom Typ `Employee` haben ebenso Zugriff auf die von der Superklasse geerbten Methoden:"
   ]
  },
  {
   "cell_type": "code",
   "execution_count": null,
   "id": "dee59ced",
   "metadata": {
    "slideshow": {
     "slide_type": "fragment"
    }
   },
   "outputs": [],
   "source": [
    "e.increaseAge()"
   ]
  },
  {
   "cell_type": "code",
   "execution_count": null,
   "id": "e93f3e26",
   "metadata": {
    "slideshow": {
     "slide_type": "fragment"
    }
   },
   "outputs": [],
   "source": [
    "e"
   ]
  },
  {
   "cell_type": "markdown",
   "id": "c7106898",
   "metadata": {
    "slideshow": {
     "slide_type": "subslide"
    }
   },
   "source": [
    "## Abstrakte Klassen"
   ]
  },
  {
   "cell_type": "markdown",
   "id": "9e915a76",
   "metadata": {
    "slideshow": {
     "slide_type": "skip"
    }
   },
   "source": [
    "Das `Employee` Beispiel zeigte, wie Vererbung verwendet wird zur _Spezialisierung_: Eine spezialisierte Unterklasse muss nur Additionen und Änderungen deklarieren. Ebenso kann man Vererbung verwenden zur _Verallgemeinerung_. Die Verallgemeinerung muss hierbei nicht notwendigerweise instantiierbar sein. Eine Klasse von der keine Objekte angelegt werden können, sondern die nur verallgemeinerte Eigenschaften und Schnittstellen beschreiben, sind _abstrakt_."
   ]
  },
  {
   "cell_type": "markdown",
   "id": "1fb38ff5",
   "metadata": {
    "slideshow": {
     "slide_type": "skip"
    }
   },
   "source": [
    "Als Beispiel betrachten wir Klassen für graphische Formen, als Teil eines hypothetischen Systems mit dem wir diese am Computer darstellen können. Alle Formen teilen gewisse Eigenschaften, beispielsweise dass sie innerhalb der Darstellungsfläche einen Ursprung (`origina`) haben. Jede Form soll auch eine Möglichkeit haben die Fläche zu berechnen (`getArea`), allerdings ist diese Berechnung natürlich für unterschiedliche Realisierungen der Formen verschieden. Wir definieren die gemeinsamen Attribute (`origin`) und die gemeinsamen Schnittstellen (`getArea`) in einer abstrakten Klasse `Graphic`. Die Implementierung der abstrakten Methode `getArea` erfolgt dann in den konkreten Unterklassen `Rectangle` und `Circle`."
   ]
  },
  {
   "cell_type": "markdown",
   "id": "0016ae6d",
   "metadata": {
    "slideshow": {
     "slide_type": "fragment"
    }
   },
   "source": [
    "![Graphic inheritance hierarchy](img/1/graphic.png)"
   ]
  },
  {
   "cell_type": "code",
   "execution_count": null,
   "id": "c2a235c7",
   "metadata": {
    "slideshow": {
     "slide_type": "fragment"
    }
   },
   "outputs": [],
   "source": [
    "import java.awt.Point"
   ]
  },
  {
   "cell_type": "code",
   "execution_count": null,
   "id": "09aa1ad5",
   "metadata": {
    "slideshow": {
     "slide_type": "fragment"
    }
   },
   "outputs": [],
   "source": [
    "abstract class Graphic {\n",
    "  private Point origin = new Point(0,0);\n",
    " \n",
    "  public Point getOrigin() {\n",
    "    return origin;\n",
    "  }\n",
    " \n",
    "  public abstract double getArea();\n",
    "}"
   ]
  },
  {
   "cell_type": "code",
   "execution_count": null,
   "id": "05bc5609",
   "metadata": {
    "slideshow": {
     "slide_type": "subslide"
    }
   },
   "outputs": [],
   "source": [
    "class Rectangle extends Graphic {\n",
    "  private int length;\n",
    "  private int width;\n",
    "  \n",
    "  public Rectangle(int width, int length) {\n",
    "    this.length = length;\n",
    "    this.width = width;\n",
    "  }\n",
    "  \n",
    "  public double getArea() {\n",
    "    return length * width;\n",
    "  }\n",
    "}"
   ]
  },
  {
   "cell_type": "code",
   "execution_count": null,
   "id": "9b18a50b",
   "metadata": {
    "slideshow": {
     "slide_type": "fragment"
    }
   },
   "outputs": [],
   "source": [
    "class Circle extends Graphic {\n",
    "  private int radius;\n",
    "  \n",
    "  public Circle(int radius) {\n",
    "    this.radius = radius;\n",
    "  }\n",
    "  \n",
    "  public double getArea() {\n",
    "    return radius * radius * Math.PI;\n",
    "  }\n",
    "}"
   ]
  },
  {
   "cell_type": "markdown",
   "id": "b3690132",
   "metadata": {
    "slideshow": {
     "slide_type": "skip"
    }
   },
   "source": [
    "Wir können nun auf Instanzen der Klasse `Rectangle` die Fläche ausrechnen, aber auch die von der Superklasse geerbten Methoden (`getOrigin`) aufrufen."
   ]
  },
  {
   "cell_type": "code",
   "execution_count": null,
   "id": "5d7de7cf",
   "metadata": {
    "slideshow": {
     "slide_type": "subslide"
    }
   },
   "outputs": [],
   "source": [
    "Rectangle rectangle = new Rectangle(10, 20)"
   ]
  },
  {
   "cell_type": "code",
   "execution_count": null,
   "id": "d7f1cf12",
   "metadata": {
    "slideshow": {
     "slide_type": "fragment"
    }
   },
   "outputs": [],
   "source": [
    "rectangle.getArea()"
   ]
  },
  {
   "cell_type": "code",
   "execution_count": null,
   "id": "888d8de1",
   "metadata": {
    "slideshow": {
     "slide_type": "fragment"
    }
   },
   "outputs": [],
   "source": [
    "rectangle.getOrigin()"
   ]
  },
  {
   "cell_type": "markdown",
   "id": "58e9daf0",
   "metadata": {
    "slideshow": {
     "slide_type": "skip"
    }
   },
   "source": [
    "Das gilt ebenso für andere Unterklassen von `Graphic`, wie `Circle`."
   ]
  },
  {
   "cell_type": "code",
   "execution_count": null,
   "id": "3d20b19e",
   "metadata": {
    "slideshow": {
     "slide_type": "fragment"
    }
   },
   "outputs": [],
   "source": [
    "Circle circle = new Circle(100)"
   ]
  },
  {
   "cell_type": "code",
   "execution_count": null,
   "id": "7c0cf5c2",
   "metadata": {
    "slideshow": {
     "slide_type": "fragment"
    }
   },
   "outputs": [],
   "source": [
    "circle.getArea()"
   ]
  },
  {
   "cell_type": "code",
   "execution_count": null,
   "id": "e9687e65",
   "metadata": {
    "slideshow": {
     "slide_type": "fragment"
    }
   },
   "outputs": [],
   "source": [
    "circle.getOrigin()"
   ]
  },
  {
   "cell_type": "markdown",
   "id": "d4eab08e",
   "metadata": {
    "slideshow": {
     "slide_type": "subslide"
    }
   },
   "source": [
    "## Polymorphie"
   ]
  },
  {
   "cell_type": "markdown",
   "id": "b9919035",
   "metadata": {
    "slideshow": {
     "slide_type": "skip"
    }
   },
   "source": [
    "Die in der Klasse `Graphic` abstrakt definierte Methode `getArea` ist _polymorph_: Eine Methode ist polymorph, wenn sie in verschiedenen Klassen einer Vererbungshierarchie implementiert ist; in unserem Fall in `Rectangle` und in `Circle`."
   ]
  },
  {
   "cell_type": "markdown",
   "id": "93937ad7",
   "metadata": {
    "slideshow": {
     "slide_type": "skip"
    }
   },
   "source": [
    "Die klassenabhängige Auswahl einer bestimmten Implementierungsmethode zu einem Operationsaufruf (zu einer empfangenen Nachricht) zur Programmlaufzeit nennt man _dynamisches Binden_. Um zu sehen wie dies funktioniert müssen wir nur Objektreferenzen vom Typ `Graphic` anlegen:"
   ]
  },
  {
   "cell_type": "code",
   "execution_count": null,
   "id": "156445b9",
   "metadata": {
    "slideshow": {
     "slide_type": "fragment"
    }
   },
   "outputs": [],
   "source": [
    "Graphic g1 = new Rectangle(100, 200);"
   ]
  },
  {
   "cell_type": "code",
   "execution_count": null,
   "id": "0cde4ea0",
   "metadata": {
    "slideshow": {
     "slide_type": "fragment"
    }
   },
   "outputs": [],
   "source": [
    "Graphic g2 = new Circle(10);"
   ]
  },
  {
   "cell_type": "markdown",
   "id": "c9f95ab2",
   "metadata": {
    "slideshow": {
     "slide_type": "skip"
    }
   },
   "source": [
    "Je nachdem ob das `Graphic` Objekt ein `Rectangle` oder ein `Circle` ist wird dynamisch die entsprechende Methode aufgerufen."
   ]
  },
  {
   "cell_type": "code",
   "execution_count": null,
   "id": "fdc6fffe",
   "metadata": {
    "slideshow": {
     "slide_type": "fragment"
    }
   },
   "outputs": [],
   "source": [
    "g1.getArea()"
   ]
  },
  {
   "cell_type": "code",
   "execution_count": null,
   "id": "52895469",
   "metadata": {
    "slideshow": {
     "slide_type": "fragment"
    }
   },
   "outputs": [],
   "source": [
    "g2.getArea()"
   ]
  },
  {
   "cell_type": "markdown",
   "id": "3e39cb34",
   "metadata": {
    "slideshow": {
     "slide_type": "skip"
    }
   },
   "source": [
    "Dynamic Binding findet man häufig wenn Methoden definiert werden, die nur die Schnittstelle eine Superklasse benötigen, dabei aber die konkreten Implementierungen der Unterklassen verwenden. Beispielsweise können wir eine Methode definieren, die uns einen Ausgabe-String für beliebige `Graphic` Objekte erzeugt."
   ]
  },
  {
   "cell_type": "code",
   "execution_count": null,
   "id": "76e94ff6",
   "metadata": {
    "slideshow": {
     "slide_type": "fragment"
    }
   },
   "outputs": [],
   "source": [
    "String exampleMethod(Graphic g) {\n",
    "  return \"The area is \" + g.getArea();\n",
    "}"
   ]
  },
  {
   "cell_type": "code",
   "execution_count": null,
   "id": "210aafb9",
   "metadata": {
    "slideshow": {
     "slide_type": "fragment"
    }
   },
   "outputs": [],
   "source": [
    "exampleMethod(g1)"
   ]
  },
  {
   "cell_type": "code",
   "execution_count": null,
   "id": "19ac3210",
   "metadata": {
    "slideshow": {
     "slide_type": "fragment"
    }
   },
   "outputs": [],
   "source": [
    "exampleMethod(g2)"
   ]
  },
  {
   "cell_type": "markdown",
   "id": "29ddf940",
   "metadata": {
    "slideshow": {
     "slide_type": "subslide"
    }
   },
   "source": [
    "## Overloading vs. Overriding"
   ]
  },
  {
   "cell_type": "markdown",
   "id": "c372a2bf",
   "metadata": {
    "slideshow": {
     "slide_type": "skip"
    }
   },
   "source": [
    "Ein wichtiges Konzept bei der Vererbung und Polymorphie ist die Unterscheidung zwischen _Overloading_ und _Overriding_. Betrachten wir die folgende Vererbungshierarchie: Eine `Person` (abstrakte Klasse) definiert Schnittstellen um das Gehalt (`salary`) abzufragen und zu ändern. Das Gehalt wird unterschiedlich berechnet je nachdem ob die Person selbständig ist (`SelfEmployed`), ein regulärer Angestellter ist (`Employee`), oder ein Angestellter mit Personalverantwortung ist (`Boss`)."
   ]
  },
  {
   "cell_type": "markdown",
   "id": "60737f47",
   "metadata": {
    "slideshow": {
     "slide_type": "fragment"
    }
   },
   "source": [
    "![Overloading vs overriding class diagram](img/1/person2.png)"
   ]
  },
  {
   "cell_type": "code",
   "execution_count": null,
   "id": "9efc5776",
   "metadata": {
    "slideshow": {
     "slide_type": "subslide"
    }
   },
   "outputs": [],
   "source": [
    "abstract class Person {\n",
    "\n",
    "  protected int salary = 1000;\n",
    "  \n",
    "  protected Person(int salary) {\n",
    "    this.salary = salary;\n",
    "  }\n",
    "  \n",
    "  public abstract int getSalary();\n",
    "  \n",
    "  public void setSalary(int value) {\n",
    "    System.out.println(\"Setting salary to int value\");\n",
    "    salary = value;\n",
    "  }\n",
    "  \n",
    "  public void setSalary(double value) {\n",
    "    System.out.println(\"Setting salary to double value\");\n",
    "    salary = (int) Math.ceil(value);\n",
    "  }\n",
    "  \n",
    "  public void setSalary(String value) {\n",
    "    System.out.println(\"Setting salary to string value\");\n",
    "    salary = Integer.parseInt(value);\n",
    "  }\n",
    "\n",
    "}"
   ]
  },
  {
   "cell_type": "code",
   "execution_count": null,
   "id": "30b5de3c",
   "metadata": {
    "slideshow": {
     "slide_type": "subslide"
    }
   },
   "outputs": [],
   "source": [
    "class SelfEmployed extends Person {\n",
    "\n",
    "  public SelfEmployed() {\n",
    "    super(0);\n",
    "  }\n",
    "\n",
    "  public int getSalary() {\n",
    "    return 0;\n",
    "  }\n",
    "}"
   ]
  },
  {
   "cell_type": "code",
   "execution_count": null,
   "id": "cb351759",
   "metadata": {
    "slideshow": {
     "slide_type": "fragment"
    }
   },
   "outputs": [],
   "source": [
    "class Employee extends Person {\n",
    "\n",
    "  public Employee(int salary) {\n",
    "    super(salary);\n",
    "  }\n",
    "\n",
    "  public int getSalary() {\n",
    "    return salary;\n",
    "  }\n",
    "}"
   ]
  },
  {
   "cell_type": "code",
   "execution_count": null,
   "id": "f63f349b",
   "metadata": {
    "slideshow": {
     "slide_type": "fragment"
    }
   },
   "outputs": [],
   "source": [
    "class Boss extends Employee {\n",
    "  public Boss(int salary) {\n",
    "    super(salary);\n",
    "  }\n",
    "  \n",
    "  public int getSalary() {\n",
    "    return (int) Math.ceil(salary * 1.2); // Bonus\n",
    "  }\n",
    "}"
   ]
  },
  {
   "cell_type": "markdown",
   "id": "d40d0baf",
   "metadata": {
    "slideshow": {
     "slide_type": "skip"
    }
   },
   "source": [
    "Sehen wir uns zunächst die Methode `getSalary` an."
   ]
  },
  {
   "cell_type": "code",
   "execution_count": null,
   "id": "52abfa2d",
   "metadata": {
    "slideshow": {
     "slide_type": "subslide"
    }
   },
   "outputs": [],
   "source": [
    "Person p1 = new SelfEmployed()"
   ]
  },
  {
   "cell_type": "code",
   "execution_count": null,
   "id": "a477b886",
   "metadata": {
    "slideshow": {
     "slide_type": "fragment"
    }
   },
   "outputs": [],
   "source": [
    "Person p2 = new Employee(1000)"
   ]
  },
  {
   "cell_type": "code",
   "execution_count": null,
   "id": "9809ae81",
   "metadata": {
    "slideshow": {
     "slide_type": "fragment"
    }
   },
   "outputs": [],
   "source": [
    "Person p3 = new Boss(10000)"
   ]
  },
  {
   "cell_type": "code",
   "execution_count": null,
   "id": "2ba82413",
   "metadata": {
    "slideshow": {
     "slide_type": "fragment"
    }
   },
   "outputs": [],
   "source": [
    "p1.getSalary()"
   ]
  },
  {
   "cell_type": "code",
   "execution_count": null,
   "id": "1fc96b47",
   "metadata": {
    "slideshow": {
     "slide_type": "fragment"
    }
   },
   "outputs": [],
   "source": [
    "p2.getSalary()"
   ]
  },
  {
   "cell_type": "code",
   "execution_count": null,
   "id": "7f020dd2",
   "metadata": {
    "slideshow": {
     "slide_type": "fragment"
    }
   },
   "outputs": [],
   "source": [
    "p3.getSalary()"
   ]
  },
  {
   "cell_type": "markdown",
   "id": "9a137703",
   "metadata": {
    "slideshow": {
     "slide_type": "skip"
    }
   },
   "source": [
    "Je nach konkreter Klasse wir bei Aufruf der `getSalary` Methode eine unterschiedliche Implementierung aufgerufen. Diese methode ist in `Person` abstrakt deklariert, und wird dann von `SelfEmployed` und `Employee` implementiert. Klasse `Boss` überschreibt die Methode mit einer anderen Implementierung. Dieses Überschreiben einer Methode ist _Overriding_."
   ]
  },
  {
   "cell_type": "markdown",
   "id": "c301c1f3",
   "metadata": {
    "slideshow": {
     "slide_type": "skip"
    }
   },
   "source": [
    "Zum Vergleich sehen wir uns nun an wir das Setzen des Gehalts funktioniert. Dazu definiert die Klasse `Person` drei verschiedene Methoden `setSalary` -- alle drei Methoden haben den identischen Namen und Returnwert, aber unterschiedliche Parameter; die Methode `setSalary` ist also _überladen_."
   ]
  },
  {
   "cell_type": "code",
   "execution_count": null,
   "id": "5712a3ed",
   "metadata": {
    "slideshow": {
     "slide_type": "subslide"
    }
   },
   "outputs": [],
   "source": [
    "p2.setSalary(100)"
   ]
  },
  {
   "cell_type": "code",
   "execution_count": null,
   "id": "4e1ca3df",
   "metadata": {
    "slideshow": {
     "slide_type": "fragment"
    }
   },
   "outputs": [],
   "source": [
    "p2.getSalary()"
   ]
  },
  {
   "cell_type": "code",
   "execution_count": null,
   "id": "96d8cfff",
   "metadata": {
    "slideshow": {
     "slide_type": "fragment"
    }
   },
   "outputs": [],
   "source": [
    "p2.setSalary(200.5)"
   ]
  },
  {
   "cell_type": "code",
   "execution_count": null,
   "id": "4752bd91",
   "metadata": {
    "slideshow": {
     "slide_type": "fragment"
    }
   },
   "outputs": [],
   "source": [
    "p2.getSalary()"
   ]
  },
  {
   "cell_type": "code",
   "execution_count": null,
   "id": "76f2c1b3",
   "metadata": {
    "slideshow": {
     "slide_type": "fragment"
    }
   },
   "outputs": [],
   "source": [
    "p2.setSalary(\"300\")"
   ]
  },
  {
   "cell_type": "code",
   "execution_count": null,
   "id": "5f419860",
   "metadata": {
    "slideshow": {
     "slide_type": "fragment"
    }
   },
   "outputs": [],
   "source": [
    "p2.getSalary()"
   ]
  },
  {
   "cell_type": "markdown",
   "id": "8e3520cb",
   "metadata": {
    "slideshow": {
     "slide_type": "slide"
    }
   },
   "source": [
    "## Interfaces"
   ]
  },
  {
   "cell_type": "markdown",
   "id": "19d65d98",
   "metadata": {
    "slideshow": {
     "slide_type": "skip"
    }
   },
   "source": [
    "Neben der klassischen Vererbung abstrakter Klassen bietet Java auch die Möglichkeit, verschiedene Objekttypen mit Hilfe von _Interfaces_ zu definieren. Ein Interface ist eine Schnittstellendefinition, und hat im allgemeinen weder einen Zustand (d.h. Attribute), noch Implementierungen von Methoden. (Seit Java 9 gibt es Default-Implementierungen und finale Variablen in Interfaces). "
   ]
  },
  {
   "cell_type": "markdown",
   "id": "757d7b11",
   "metadata": {
    "slideshow": {
     "slide_type": "skip"
    }
   },
   "source": [
    "Interfaces erlauben unterschiedliche Sichten auf Objekte für verschiedene Anwendungszwecke. Man erkennt dies meist in der Benennung: Interfaces haben oft Namen die Eigenschaften beschreiben und in `-able` enden, während abstrakte Klassen eher mit Substantiven benannt werden."
   ]
  },
  {
   "cell_type": "markdown",
   "id": "e93380fd",
   "metadata": {
    "slideshow": {
     "slide_type": "subslide"
    }
   },
   "source": [
    "![Interface class diagram](img/1/car1.png)"
   ]
  },
  {
   "cell_type": "code",
   "execution_count": null,
   "id": "6751506c",
   "metadata": {
    "slideshow": {
     "slide_type": "fragment"
    }
   },
   "outputs": [],
   "source": [
    "interface Sellable {\n",
    "  int getPrice();\n",
    "}"
   ]
  },
  {
   "cell_type": "code",
   "execution_count": null,
   "id": "41f8465f",
   "metadata": {
    "slideshow": {
     "slide_type": "fragment"
    }
   },
   "outputs": [],
   "source": [
    "class Car implements Sellable {\n",
    "  public int getPrice() {\n",
    "    return 100;\n",
    "  }\n",
    "}"
   ]
  },
  {
   "cell_type": "code",
   "execution_count": null,
   "id": "0ddcba93",
   "metadata": {
    "slideshow": {
     "slide_type": "fragment"
    }
   },
   "outputs": [],
   "source": [
    "Car c = new Car()"
   ]
  },
  {
   "cell_type": "code",
   "execution_count": null,
   "id": "cf233136",
   "metadata": {
    "slideshow": {
     "slide_type": "fragment"
    }
   },
   "outputs": [],
   "source": [
    "c.getPrice()"
   ]
  },
  {
   "cell_type": "markdown",
   "id": "05df22b4",
   "metadata": {
    "slideshow": {
     "slide_type": "skip"
    }
   },
   "source": [
    "Eine Klasse kann immer nur von einer Superklasse erben (`extends`); eine Klasse kann aber mehrere Interfaces implementieren (`implements`). Wir können beispielsweise unsere `Car` Klasse nicht nur `Sellable` machen, sondern auch `Moveable`:"
   ]
  },
  {
   "cell_type": "markdown",
   "id": "85c1a914",
   "metadata": {
    "slideshow": {
     "slide_type": "subslide"
    }
   },
   "source": [
    "![Interface class diagram](img/1/car2.png)"
   ]
  },
  {
   "cell_type": "code",
   "execution_count": null,
   "id": "a617e0b0",
   "metadata": {
    "slideshow": {
     "slide_type": "fragment"
    }
   },
   "outputs": [],
   "source": [
    "interface Moveable {\n",
    "  void move();\n",
    "}"
   ]
  },
  {
   "cell_type": "code",
   "execution_count": null,
   "id": "1f9c924b",
   "metadata": {
    "slideshow": {
     "slide_type": "fragment"
    }
   },
   "outputs": [],
   "source": [
    "class Car implements Sellable, Moveable {\n",
    "  public int getPrice() {\n",
    "    return 100;\n",
    "  }\n",
    "  \n",
    "  public void move() {\n",
    "    System.out.println(\"Brrm brrm\");\n",
    "  }\n",
    "}"
   ]
  },
  {
   "cell_type": "code",
   "execution_count": null,
   "id": "d31879fd",
   "metadata": {
    "slideshow": {
     "slide_type": "fragment"
    }
   },
   "outputs": [],
   "source": [
    "Car c = new Car()"
   ]
  },
  {
   "cell_type": "code",
   "execution_count": null,
   "id": "c4508348",
   "metadata": {
    "slideshow": {
     "slide_type": "fragment"
    }
   },
   "outputs": [],
   "source": [
    "c.move()"
   ]
  },
  {
   "cell_type": "code",
   "execution_count": null,
   "id": "0179803c",
   "metadata": {
    "slideshow": {
     "slide_type": "fragment"
    }
   },
   "outputs": [],
   "source": [
    "c.getPrice()"
   ]
  },
  {
   "cell_type": "markdown",
   "id": "5404496f",
   "metadata": {
    "slideshow": {
     "slide_type": "skip"
    }
   },
   "source": [
    "## Weitere Objektorientierte Konzepte"
   ]
  },
  {
   "cell_type": "markdown",
   "id": "f1b6da55",
   "metadata": {
    "slideshow": {
     "slide_type": "skip"
    }
   },
   "source": [
    "Die Beispiele und Ausführungen in diesem Jupyter Notebook betreffen Konzepte die in weiterer Folge insbesondere für Objektorientertes Design wichtig werden, und basierend hauptsächlich auf Erfahrungen wo es Verständnisprobleme gibt. Wenn es weitere Themen gibt wo Beispiele gebraucht werden, dann bin ich für Anregungen zu Erweiterungen dankbar. Nicht behandelt wurde beispielsweise Kapselung (private/protected/package private/public Sichtbarkeit von Attributen/Methoden), Message Passing, Persistenz, und vieles mehr."
   ]
  }
 ],
 "metadata": {
  "celltoolbar": "Slideshow",
  "kernelspec": {
   "display_name": "Java",
   "language": "java",
   "name": "java"
  },
  "language_info": {
   "codemirror_mode": "java",
   "file_extension": ".jshell",
   "mimetype": "text/x-java-source",
   "name": "Java",
   "pygments_lexer": "java",
   "version": "21.0.2"
  }
 },
 "nbformat": 4,
 "nbformat_minor": 5
}
